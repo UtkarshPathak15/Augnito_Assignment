{
  "cells": [
    {
      "cell_type": "code",
      "source": [
        "import pandas as pd\n",
        "import numpy as np\n",
        "import torch\n",
        "import torch.nn as nn\n",
        "import torch.nn as nn\n",
        "import torch.optim as optim"
      ],
      "metadata": {
        "id": "2yJ_cRuP5wDt"
      },
      "execution_count": null,
      "outputs": []
    },
    {
      "cell_type": "code",
      "execution_count": null,
      "metadata": {
        "id": "7GB3HVK1RRHY"
      },
      "outputs": [],
      "source": [
        "device = torch.device('cuda' if torch.cuda.is_available() else 'cpu')"
      ]
    },
    {
      "cell_type": "markdown",
      "source": [
        "Mounting the drive"
      ],
      "metadata": {
        "id": "7g65bORlKTGk"
      }
    },
    {
      "cell_type": "code",
      "source": [
        "from google.colab import drive\n",
        "drive.mount('/content/drive/')"
      ],
      "metadata": {
        "colab": {
          "base_uri": "https://localhost:8080/"
        },
        "id": "vfS9yai49DTC",
        "outputId": "46815953-eee2-4c81-d085-6e2318be773b"
      },
      "execution_count": null,
      "outputs": [
        {
          "output_type": "stream",
          "name": "stdout",
          "text": [
            "Mounted at /content/drive/\n"
          ]
        }
      ]
    },
    {
      "cell_type": "code",
      "execution_count": null,
      "metadata": {
        "id": "rzMe00huY5tF"
      },
      "outputs": [],
      "source": [
        "import tarfile"
      ]
    },
    {
      "cell_type": "markdown",
      "source": [
        "Extracting the files and folders"
      ],
      "metadata": {
        "id": "92Dh5rTAKVvb"
      }
    },
    {
      "cell_type": "code",
      "source": [
        "file = tarfile.open('/content/drive/MyDrive/Augnito_Assignment/UrbanSound8K.tar.gz')\n",
        "file.extractall('./')\n",
        "file.close()"
      ],
      "metadata": {
        "id": "g6zINyh59d1c"
      },
      "execution_count": null,
      "outputs": []
    },
    {
      "cell_type": "code",
      "execution_count": null,
      "metadata": {
        "colab": {
          "base_uri": "https://localhost:8080/",
          "height": 206
        },
        "id": "OvIykfPjaDdn",
        "outputId": "2f39fef6-795c-4c8d-814f-a2a147d0c96f"
      },
      "outputs": [
        {
          "output_type": "execute_result",
          "data": {
            "text/plain": [
              "      slice_file_name    fsID  start        end  salience  fold  classID  \\\n",
              "0    100032-3-0-0.wav  100032    0.0   0.317551         1     5        3   \n",
              "1  100263-2-0-117.wav  100263   58.5  62.500000         1     5        2   \n",
              "2  100263-2-0-121.wav  100263   60.5  64.500000         1     5        2   \n",
              "3  100263-2-0-126.wav  100263   63.0  67.000000         1     5        2   \n",
              "4  100263-2-0-137.wav  100263   68.5  72.500000         1     5        2   \n",
              "\n",
              "              class  \n",
              "0          dog_bark  \n",
              "1  children_playing  \n",
              "2  children_playing  \n",
              "3  children_playing  \n",
              "4  children_playing  "
            ],
            "text/html": [
              "\n",
              "  <div id=\"df-89b609d7-93fe-4dbd-9466-6dd4e1fe866a\" class=\"colab-df-container\">\n",
              "    <div>\n",
              "<style scoped>\n",
              "    .dataframe tbody tr th:only-of-type {\n",
              "        vertical-align: middle;\n",
              "    }\n",
              "\n",
              "    .dataframe tbody tr th {\n",
              "        vertical-align: top;\n",
              "    }\n",
              "\n",
              "    .dataframe thead th {\n",
              "        text-align: right;\n",
              "    }\n",
              "</style>\n",
              "<table border=\"1\" class=\"dataframe\">\n",
              "  <thead>\n",
              "    <tr style=\"text-align: right;\">\n",
              "      <th></th>\n",
              "      <th>slice_file_name</th>\n",
              "      <th>fsID</th>\n",
              "      <th>start</th>\n",
              "      <th>end</th>\n",
              "      <th>salience</th>\n",
              "      <th>fold</th>\n",
              "      <th>classID</th>\n",
              "      <th>class</th>\n",
              "    </tr>\n",
              "  </thead>\n",
              "  <tbody>\n",
              "    <tr>\n",
              "      <th>0</th>\n",
              "      <td>100032-3-0-0.wav</td>\n",
              "      <td>100032</td>\n",
              "      <td>0.0</td>\n",
              "      <td>0.317551</td>\n",
              "      <td>1</td>\n",
              "      <td>5</td>\n",
              "      <td>3</td>\n",
              "      <td>dog_bark</td>\n",
              "    </tr>\n",
              "    <tr>\n",
              "      <th>1</th>\n",
              "      <td>100263-2-0-117.wav</td>\n",
              "      <td>100263</td>\n",
              "      <td>58.5</td>\n",
              "      <td>62.500000</td>\n",
              "      <td>1</td>\n",
              "      <td>5</td>\n",
              "      <td>2</td>\n",
              "      <td>children_playing</td>\n",
              "    </tr>\n",
              "    <tr>\n",
              "      <th>2</th>\n",
              "      <td>100263-2-0-121.wav</td>\n",
              "      <td>100263</td>\n",
              "      <td>60.5</td>\n",
              "      <td>64.500000</td>\n",
              "      <td>1</td>\n",
              "      <td>5</td>\n",
              "      <td>2</td>\n",
              "      <td>children_playing</td>\n",
              "    </tr>\n",
              "    <tr>\n",
              "      <th>3</th>\n",
              "      <td>100263-2-0-126.wav</td>\n",
              "      <td>100263</td>\n",
              "      <td>63.0</td>\n",
              "      <td>67.000000</td>\n",
              "      <td>1</td>\n",
              "      <td>5</td>\n",
              "      <td>2</td>\n",
              "      <td>children_playing</td>\n",
              "    </tr>\n",
              "    <tr>\n",
              "      <th>4</th>\n",
              "      <td>100263-2-0-137.wav</td>\n",
              "      <td>100263</td>\n",
              "      <td>68.5</td>\n",
              "      <td>72.500000</td>\n",
              "      <td>1</td>\n",
              "      <td>5</td>\n",
              "      <td>2</td>\n",
              "      <td>children_playing</td>\n",
              "    </tr>\n",
              "  </tbody>\n",
              "</table>\n",
              "</div>\n",
              "    <div class=\"colab-df-buttons\">\n",
              "\n",
              "  <div class=\"colab-df-container\">\n",
              "    <button class=\"colab-df-convert\" onclick=\"convertToInteractive('df-89b609d7-93fe-4dbd-9466-6dd4e1fe866a')\"\n",
              "            title=\"Convert this dataframe to an interactive table.\"\n",
              "            style=\"display:none;\">\n",
              "\n",
              "  <svg xmlns=\"http://www.w3.org/2000/svg\" height=\"24px\" viewBox=\"0 -960 960 960\">\n",
              "    <path d=\"M120-120v-720h720v720H120Zm60-500h600v-160H180v160Zm220 220h160v-160H400v160Zm0 220h160v-160H400v160ZM180-400h160v-160H180v160Zm440 0h160v-160H620v160ZM180-180h160v-160H180v160Zm440 0h160v-160H620v160Z\"/>\n",
              "  </svg>\n",
              "    </button>\n",
              "\n",
              "  <style>\n",
              "    .colab-df-container {\n",
              "      display:flex;\n",
              "      gap: 12px;\n",
              "    }\n",
              "\n",
              "    .colab-df-convert {\n",
              "      background-color: #E8F0FE;\n",
              "      border: none;\n",
              "      border-radius: 50%;\n",
              "      cursor: pointer;\n",
              "      display: none;\n",
              "      fill: #1967D2;\n",
              "      height: 32px;\n",
              "      padding: 0 0 0 0;\n",
              "      width: 32px;\n",
              "    }\n",
              "\n",
              "    .colab-df-convert:hover {\n",
              "      background-color: #E2EBFA;\n",
              "      box-shadow: 0px 1px 2px rgba(60, 64, 67, 0.3), 0px 1px 3px 1px rgba(60, 64, 67, 0.15);\n",
              "      fill: #174EA6;\n",
              "    }\n",
              "\n",
              "    .colab-df-buttons div {\n",
              "      margin-bottom: 4px;\n",
              "    }\n",
              "\n",
              "    [theme=dark] .colab-df-convert {\n",
              "      background-color: #3B4455;\n",
              "      fill: #D2E3FC;\n",
              "    }\n",
              "\n",
              "    [theme=dark] .colab-df-convert:hover {\n",
              "      background-color: #434B5C;\n",
              "      box-shadow: 0px 1px 3px 1px rgba(0, 0, 0, 0.15);\n",
              "      filter: drop-shadow(0px 1px 2px rgba(0, 0, 0, 0.3));\n",
              "      fill: #FFFFFF;\n",
              "    }\n",
              "  </style>\n",
              "\n",
              "    <script>\n",
              "      const buttonEl =\n",
              "        document.querySelector('#df-89b609d7-93fe-4dbd-9466-6dd4e1fe866a button.colab-df-convert');\n",
              "      buttonEl.style.display =\n",
              "        google.colab.kernel.accessAllowed ? 'block' : 'none';\n",
              "\n",
              "      async function convertToInteractive(key) {\n",
              "        const element = document.querySelector('#df-89b609d7-93fe-4dbd-9466-6dd4e1fe866a');\n",
              "        const dataTable =\n",
              "          await google.colab.kernel.invokeFunction('convertToInteractive',\n",
              "                                                    [key], {});\n",
              "        if (!dataTable) return;\n",
              "\n",
              "        const docLinkHtml = 'Like what you see? Visit the ' +\n",
              "          '<a target=\"_blank\" href=https://colab.research.google.com/notebooks/data_table.ipynb>data table notebook</a>'\n",
              "          + ' to learn more about interactive tables.';\n",
              "        element.innerHTML = '';\n",
              "        dataTable['output_type'] = 'display_data';\n",
              "        await google.colab.output.renderOutput(dataTable, element);\n",
              "        const docLink = document.createElement('div');\n",
              "        docLink.innerHTML = docLinkHtml;\n",
              "        element.appendChild(docLink);\n",
              "      }\n",
              "    </script>\n",
              "  </div>\n",
              "\n",
              "\n",
              "<div id=\"df-752f6a8b-0950-47af-aae8-f8e12f8bbaee\">\n",
              "  <button class=\"colab-df-quickchart\" onclick=\"quickchart('df-752f6a8b-0950-47af-aae8-f8e12f8bbaee')\"\n",
              "            title=\"Suggest charts\"\n",
              "            style=\"display:none;\">\n",
              "\n",
              "<svg xmlns=\"http://www.w3.org/2000/svg\" height=\"24px\"viewBox=\"0 0 24 24\"\n",
              "     width=\"24px\">\n",
              "    <g>\n",
              "        <path d=\"M19 3H5c-1.1 0-2 .9-2 2v14c0 1.1.9 2 2 2h14c1.1 0 2-.9 2-2V5c0-1.1-.9-2-2-2zM9 17H7v-7h2v7zm4 0h-2V7h2v10zm4 0h-2v-4h2v4z\"/>\n",
              "    </g>\n",
              "</svg>\n",
              "  </button>\n",
              "\n",
              "<style>\n",
              "  .colab-df-quickchart {\n",
              "      --bg-color: #E8F0FE;\n",
              "      --fill-color: #1967D2;\n",
              "      --hover-bg-color: #E2EBFA;\n",
              "      --hover-fill-color: #174EA6;\n",
              "      --disabled-fill-color: #AAA;\n",
              "      --disabled-bg-color: #DDD;\n",
              "  }\n",
              "\n",
              "  [theme=dark] .colab-df-quickchart {\n",
              "      --bg-color: #3B4455;\n",
              "      --fill-color: #D2E3FC;\n",
              "      --hover-bg-color: #434B5C;\n",
              "      --hover-fill-color: #FFFFFF;\n",
              "      --disabled-bg-color: #3B4455;\n",
              "      --disabled-fill-color: #666;\n",
              "  }\n",
              "\n",
              "  .colab-df-quickchart {\n",
              "    background-color: var(--bg-color);\n",
              "    border: none;\n",
              "    border-radius: 50%;\n",
              "    cursor: pointer;\n",
              "    display: none;\n",
              "    fill: var(--fill-color);\n",
              "    height: 32px;\n",
              "    padding: 0;\n",
              "    width: 32px;\n",
              "  }\n",
              "\n",
              "  .colab-df-quickchart:hover {\n",
              "    background-color: var(--hover-bg-color);\n",
              "    box-shadow: 0 1px 2px rgba(60, 64, 67, 0.3), 0 1px 3px 1px rgba(60, 64, 67, 0.15);\n",
              "    fill: var(--button-hover-fill-color);\n",
              "  }\n",
              "\n",
              "  .colab-df-quickchart-complete:disabled,\n",
              "  .colab-df-quickchart-complete:disabled:hover {\n",
              "    background-color: var(--disabled-bg-color);\n",
              "    fill: var(--disabled-fill-color);\n",
              "    box-shadow: none;\n",
              "  }\n",
              "\n",
              "  .colab-df-spinner {\n",
              "    border: 2px solid var(--fill-color);\n",
              "    border-color: transparent;\n",
              "    border-bottom-color: var(--fill-color);\n",
              "    animation:\n",
              "      spin 1s steps(1) infinite;\n",
              "  }\n",
              "\n",
              "  @keyframes spin {\n",
              "    0% {\n",
              "      border-color: transparent;\n",
              "      border-bottom-color: var(--fill-color);\n",
              "      border-left-color: var(--fill-color);\n",
              "    }\n",
              "    20% {\n",
              "      border-color: transparent;\n",
              "      border-left-color: var(--fill-color);\n",
              "      border-top-color: var(--fill-color);\n",
              "    }\n",
              "    30% {\n",
              "      border-color: transparent;\n",
              "      border-left-color: var(--fill-color);\n",
              "      border-top-color: var(--fill-color);\n",
              "      border-right-color: var(--fill-color);\n",
              "    }\n",
              "    40% {\n",
              "      border-color: transparent;\n",
              "      border-right-color: var(--fill-color);\n",
              "      border-top-color: var(--fill-color);\n",
              "    }\n",
              "    60% {\n",
              "      border-color: transparent;\n",
              "      border-right-color: var(--fill-color);\n",
              "    }\n",
              "    80% {\n",
              "      border-color: transparent;\n",
              "      border-right-color: var(--fill-color);\n",
              "      border-bottom-color: var(--fill-color);\n",
              "    }\n",
              "    90% {\n",
              "      border-color: transparent;\n",
              "      border-bottom-color: var(--fill-color);\n",
              "    }\n",
              "  }\n",
              "</style>\n",
              "\n",
              "  <script>\n",
              "    async function quickchart(key) {\n",
              "      const quickchartButtonEl =\n",
              "        document.querySelector('#' + key + ' button');\n",
              "      quickchartButtonEl.disabled = true;  // To prevent multiple clicks.\n",
              "      quickchartButtonEl.classList.add('colab-df-spinner');\n",
              "      try {\n",
              "        const charts = await google.colab.kernel.invokeFunction(\n",
              "            'suggestCharts', [key], {});\n",
              "      } catch (error) {\n",
              "        console.error('Error during call to suggestCharts:', error);\n",
              "      }\n",
              "      quickchartButtonEl.classList.remove('colab-df-spinner');\n",
              "      quickchartButtonEl.classList.add('colab-df-quickchart-complete');\n",
              "    }\n",
              "    (() => {\n",
              "      let quickchartButtonEl =\n",
              "        document.querySelector('#df-752f6a8b-0950-47af-aae8-f8e12f8bbaee button');\n",
              "      quickchartButtonEl.style.display =\n",
              "        google.colab.kernel.accessAllowed ? 'block' : 'none';\n",
              "    })();\n",
              "  </script>\n",
              "</div>\n",
              "\n",
              "    </div>\n",
              "  </div>\n"
            ]
          },
          "metadata": {},
          "execution_count": 6
        }
      ],
      "source": [
        "df = pd.read_csv(\"/content/UrbanSound8K/metadata/UrbanSound8K.csv\")\n",
        "df.head()"
      ]
    },
    {
      "cell_type": "code",
      "execution_count": null,
      "metadata": {
        "id": "4ILoP3dsayXj"
      },
      "outputs": [],
      "source": [
        "df[\"path\"] = \"/content/UrbanSound8K/audio/fold\"+df['fold'].astype(str)+\"/\"+df['slice_file_name'].astype(str)"
      ]
    },
    {
      "cell_type": "code",
      "source": [
        "df = df[['path','classID','class']]\n",
        "df.head()"
      ],
      "metadata": {
        "colab": {
          "base_uri": "https://localhost:8080/",
          "height": 206
        },
        "id": "wpJPrKb4rAyx",
        "outputId": "3235148e-c9fc-4318-9d58-72660c0f6a19"
      },
      "execution_count": null,
      "outputs": [
        {
          "output_type": "execute_result",
          "data": {
            "text/plain": [
              "                                                path  classID  \\\n",
              "0  /content/UrbanSound8K/audio/fold5/100032-3-0-0...        3   \n",
              "1  /content/UrbanSound8K/audio/fold5/100263-2-0-1...        2   \n",
              "2  /content/UrbanSound8K/audio/fold5/100263-2-0-1...        2   \n",
              "3  /content/UrbanSound8K/audio/fold5/100263-2-0-1...        2   \n",
              "4  /content/UrbanSound8K/audio/fold5/100263-2-0-1...        2   \n",
              "\n",
              "              class  \n",
              "0          dog_bark  \n",
              "1  children_playing  \n",
              "2  children_playing  \n",
              "3  children_playing  \n",
              "4  children_playing  "
            ],
            "text/html": [
              "\n",
              "  <div id=\"df-5aa3665a-d3df-49ef-94e7-96e3007d6cc1\" class=\"colab-df-container\">\n",
              "    <div>\n",
              "<style scoped>\n",
              "    .dataframe tbody tr th:only-of-type {\n",
              "        vertical-align: middle;\n",
              "    }\n",
              "\n",
              "    .dataframe tbody tr th {\n",
              "        vertical-align: top;\n",
              "    }\n",
              "\n",
              "    .dataframe thead th {\n",
              "        text-align: right;\n",
              "    }\n",
              "</style>\n",
              "<table border=\"1\" class=\"dataframe\">\n",
              "  <thead>\n",
              "    <tr style=\"text-align: right;\">\n",
              "      <th></th>\n",
              "      <th>path</th>\n",
              "      <th>classID</th>\n",
              "      <th>class</th>\n",
              "    </tr>\n",
              "  </thead>\n",
              "  <tbody>\n",
              "    <tr>\n",
              "      <th>0</th>\n",
              "      <td>/content/UrbanSound8K/audio/fold5/100032-3-0-0...</td>\n",
              "      <td>3</td>\n",
              "      <td>dog_bark</td>\n",
              "    </tr>\n",
              "    <tr>\n",
              "      <th>1</th>\n",
              "      <td>/content/UrbanSound8K/audio/fold5/100263-2-0-1...</td>\n",
              "      <td>2</td>\n",
              "      <td>children_playing</td>\n",
              "    </tr>\n",
              "    <tr>\n",
              "      <th>2</th>\n",
              "      <td>/content/UrbanSound8K/audio/fold5/100263-2-0-1...</td>\n",
              "      <td>2</td>\n",
              "      <td>children_playing</td>\n",
              "    </tr>\n",
              "    <tr>\n",
              "      <th>3</th>\n",
              "      <td>/content/UrbanSound8K/audio/fold5/100263-2-0-1...</td>\n",
              "      <td>2</td>\n",
              "      <td>children_playing</td>\n",
              "    </tr>\n",
              "    <tr>\n",
              "      <th>4</th>\n",
              "      <td>/content/UrbanSound8K/audio/fold5/100263-2-0-1...</td>\n",
              "      <td>2</td>\n",
              "      <td>children_playing</td>\n",
              "    </tr>\n",
              "  </tbody>\n",
              "</table>\n",
              "</div>\n",
              "    <div class=\"colab-df-buttons\">\n",
              "\n",
              "  <div class=\"colab-df-container\">\n",
              "    <button class=\"colab-df-convert\" onclick=\"convertToInteractive('df-5aa3665a-d3df-49ef-94e7-96e3007d6cc1')\"\n",
              "            title=\"Convert this dataframe to an interactive table.\"\n",
              "            style=\"display:none;\">\n",
              "\n",
              "  <svg xmlns=\"http://www.w3.org/2000/svg\" height=\"24px\" viewBox=\"0 -960 960 960\">\n",
              "    <path d=\"M120-120v-720h720v720H120Zm60-500h600v-160H180v160Zm220 220h160v-160H400v160Zm0 220h160v-160H400v160ZM180-400h160v-160H180v160Zm440 0h160v-160H620v160ZM180-180h160v-160H180v160Zm440 0h160v-160H620v160Z\"/>\n",
              "  </svg>\n",
              "    </button>\n",
              "\n",
              "  <style>\n",
              "    .colab-df-container {\n",
              "      display:flex;\n",
              "      gap: 12px;\n",
              "    }\n",
              "\n",
              "    .colab-df-convert {\n",
              "      background-color: #E8F0FE;\n",
              "      border: none;\n",
              "      border-radius: 50%;\n",
              "      cursor: pointer;\n",
              "      display: none;\n",
              "      fill: #1967D2;\n",
              "      height: 32px;\n",
              "      padding: 0 0 0 0;\n",
              "      width: 32px;\n",
              "    }\n",
              "\n",
              "    .colab-df-convert:hover {\n",
              "      background-color: #E2EBFA;\n",
              "      box-shadow: 0px 1px 2px rgba(60, 64, 67, 0.3), 0px 1px 3px 1px rgba(60, 64, 67, 0.15);\n",
              "      fill: #174EA6;\n",
              "    }\n",
              "\n",
              "    .colab-df-buttons div {\n",
              "      margin-bottom: 4px;\n",
              "    }\n",
              "\n",
              "    [theme=dark] .colab-df-convert {\n",
              "      background-color: #3B4455;\n",
              "      fill: #D2E3FC;\n",
              "    }\n",
              "\n",
              "    [theme=dark] .colab-df-convert:hover {\n",
              "      background-color: #434B5C;\n",
              "      box-shadow: 0px 1px 3px 1px rgba(0, 0, 0, 0.15);\n",
              "      filter: drop-shadow(0px 1px 2px rgba(0, 0, 0, 0.3));\n",
              "      fill: #FFFFFF;\n",
              "    }\n",
              "  </style>\n",
              "\n",
              "    <script>\n",
              "      const buttonEl =\n",
              "        document.querySelector('#df-5aa3665a-d3df-49ef-94e7-96e3007d6cc1 button.colab-df-convert');\n",
              "      buttonEl.style.display =\n",
              "        google.colab.kernel.accessAllowed ? 'block' : 'none';\n",
              "\n",
              "      async function convertToInteractive(key) {\n",
              "        const element = document.querySelector('#df-5aa3665a-d3df-49ef-94e7-96e3007d6cc1');\n",
              "        const dataTable =\n",
              "          await google.colab.kernel.invokeFunction('convertToInteractive',\n",
              "                                                    [key], {});\n",
              "        if (!dataTable) return;\n",
              "\n",
              "        const docLinkHtml = 'Like what you see? Visit the ' +\n",
              "          '<a target=\"_blank\" href=https://colab.research.google.com/notebooks/data_table.ipynb>data table notebook</a>'\n",
              "          + ' to learn more about interactive tables.';\n",
              "        element.innerHTML = '';\n",
              "        dataTable['output_type'] = 'display_data';\n",
              "        await google.colab.output.renderOutput(dataTable, element);\n",
              "        const docLink = document.createElement('div');\n",
              "        docLink.innerHTML = docLinkHtml;\n",
              "        element.appendChild(docLink);\n",
              "      }\n",
              "    </script>\n",
              "  </div>\n",
              "\n",
              "\n",
              "<div id=\"df-34f01aa8-944b-431a-a147-c03962b0b11b\">\n",
              "  <button class=\"colab-df-quickchart\" onclick=\"quickchart('df-34f01aa8-944b-431a-a147-c03962b0b11b')\"\n",
              "            title=\"Suggest charts\"\n",
              "            style=\"display:none;\">\n",
              "\n",
              "<svg xmlns=\"http://www.w3.org/2000/svg\" height=\"24px\"viewBox=\"0 0 24 24\"\n",
              "     width=\"24px\">\n",
              "    <g>\n",
              "        <path d=\"M19 3H5c-1.1 0-2 .9-2 2v14c0 1.1.9 2 2 2h14c1.1 0 2-.9 2-2V5c0-1.1-.9-2-2-2zM9 17H7v-7h2v7zm4 0h-2V7h2v10zm4 0h-2v-4h2v4z\"/>\n",
              "    </g>\n",
              "</svg>\n",
              "  </button>\n",
              "\n",
              "<style>\n",
              "  .colab-df-quickchart {\n",
              "      --bg-color: #E8F0FE;\n",
              "      --fill-color: #1967D2;\n",
              "      --hover-bg-color: #E2EBFA;\n",
              "      --hover-fill-color: #174EA6;\n",
              "      --disabled-fill-color: #AAA;\n",
              "      --disabled-bg-color: #DDD;\n",
              "  }\n",
              "\n",
              "  [theme=dark] .colab-df-quickchart {\n",
              "      --bg-color: #3B4455;\n",
              "      --fill-color: #D2E3FC;\n",
              "      --hover-bg-color: #434B5C;\n",
              "      --hover-fill-color: #FFFFFF;\n",
              "      --disabled-bg-color: #3B4455;\n",
              "      --disabled-fill-color: #666;\n",
              "  }\n",
              "\n",
              "  .colab-df-quickchart {\n",
              "    background-color: var(--bg-color);\n",
              "    border: none;\n",
              "    border-radius: 50%;\n",
              "    cursor: pointer;\n",
              "    display: none;\n",
              "    fill: var(--fill-color);\n",
              "    height: 32px;\n",
              "    padding: 0;\n",
              "    width: 32px;\n",
              "  }\n",
              "\n",
              "  .colab-df-quickchart:hover {\n",
              "    background-color: var(--hover-bg-color);\n",
              "    box-shadow: 0 1px 2px rgba(60, 64, 67, 0.3), 0 1px 3px 1px rgba(60, 64, 67, 0.15);\n",
              "    fill: var(--button-hover-fill-color);\n",
              "  }\n",
              "\n",
              "  .colab-df-quickchart-complete:disabled,\n",
              "  .colab-df-quickchart-complete:disabled:hover {\n",
              "    background-color: var(--disabled-bg-color);\n",
              "    fill: var(--disabled-fill-color);\n",
              "    box-shadow: none;\n",
              "  }\n",
              "\n",
              "  .colab-df-spinner {\n",
              "    border: 2px solid var(--fill-color);\n",
              "    border-color: transparent;\n",
              "    border-bottom-color: var(--fill-color);\n",
              "    animation:\n",
              "      spin 1s steps(1) infinite;\n",
              "  }\n",
              "\n",
              "  @keyframes spin {\n",
              "    0% {\n",
              "      border-color: transparent;\n",
              "      border-bottom-color: var(--fill-color);\n",
              "      border-left-color: var(--fill-color);\n",
              "    }\n",
              "    20% {\n",
              "      border-color: transparent;\n",
              "      border-left-color: var(--fill-color);\n",
              "      border-top-color: var(--fill-color);\n",
              "    }\n",
              "    30% {\n",
              "      border-color: transparent;\n",
              "      border-left-color: var(--fill-color);\n",
              "      border-top-color: var(--fill-color);\n",
              "      border-right-color: var(--fill-color);\n",
              "    }\n",
              "    40% {\n",
              "      border-color: transparent;\n",
              "      border-right-color: var(--fill-color);\n",
              "      border-top-color: var(--fill-color);\n",
              "    }\n",
              "    60% {\n",
              "      border-color: transparent;\n",
              "      border-right-color: var(--fill-color);\n",
              "    }\n",
              "    80% {\n",
              "      border-color: transparent;\n",
              "      border-right-color: var(--fill-color);\n",
              "      border-bottom-color: var(--fill-color);\n",
              "    }\n",
              "    90% {\n",
              "      border-color: transparent;\n",
              "      border-bottom-color: var(--fill-color);\n",
              "    }\n",
              "  }\n",
              "</style>\n",
              "\n",
              "  <script>\n",
              "    async function quickchart(key) {\n",
              "      const quickchartButtonEl =\n",
              "        document.querySelector('#' + key + ' button');\n",
              "      quickchartButtonEl.disabled = true;  // To prevent multiple clicks.\n",
              "      quickchartButtonEl.classList.add('colab-df-spinner');\n",
              "      try {\n",
              "        const charts = await google.colab.kernel.invokeFunction(\n",
              "            'suggestCharts', [key], {});\n",
              "      } catch (error) {\n",
              "        console.error('Error during call to suggestCharts:', error);\n",
              "      }\n",
              "      quickchartButtonEl.classList.remove('colab-df-spinner');\n",
              "      quickchartButtonEl.classList.add('colab-df-quickchart-complete');\n",
              "    }\n",
              "    (() => {\n",
              "      let quickchartButtonEl =\n",
              "        document.querySelector('#df-34f01aa8-944b-431a-a147-c03962b0b11b button');\n",
              "      quickchartButtonEl.style.display =\n",
              "        google.colab.kernel.accessAllowed ? 'block' : 'none';\n",
              "    })();\n",
              "  </script>\n",
              "</div>\n",
              "\n",
              "    </div>\n",
              "  </div>\n"
            ]
          },
          "metadata": {},
          "execution_count": 8
        }
      ]
    },
    {
      "cell_type": "code",
      "source": [
        "import torchaudio\n",
        "import torchaudio.transforms as T\n",
        "import torch.functional as F\n",
        "import random\n",
        "from torch.utils.data import Dataset,DataLoader\n",
        "from sklearn.model_selection import train_test_split\n",
        "import librosa"
      ],
      "metadata": {
        "id": "i9Kfhl165lNb"
      },
      "execution_count": null,
      "outputs": []
    },
    {
      "cell_type": "markdown",
      "source": [
        "# **Zero shot**"
      ],
      "metadata": {
        "id": "ANylohbzpfPe"
      }
    },
    {
      "cell_type": "code",
      "source": [
        "!pip install openl3"
      ],
      "metadata": {
        "colab": {
          "base_uri": "https://localhost:8080/"
        },
        "id": "Z3AfGYv9uU4C",
        "outputId": "48fb77b9-21b0-4f15-ce2b-62428064ed8c"
      },
      "execution_count": null,
      "outputs": [
        {
          "output_type": "stream",
          "name": "stdout",
          "text": [
            "Collecting openl3\n",
            "  Downloading openl3-0.4.2.tar.gz (29 kB)\n",
            "  Preparing metadata (setup.py) ... \u001b[?25l\u001b[?25hdone\n",
            "Requirement already satisfied: tensorflow>=2.0.0 in /usr/local/lib/python3.10/dist-packages (from openl3) (2.15.0)\n",
            "Requirement already satisfied: numpy>=1.13.0 in /usr/local/lib/python3.10/dist-packages (from openl3) (1.23.5)\n",
            "Requirement already satisfied: scipy>=0.19.1 in /usr/local/lib/python3.10/dist-packages (from openl3) (1.11.4)\n",
            "Collecting kapre>=0.3.5 (from openl3)\n",
            "  Downloading kapre-0.3.7.tar.gz (26 kB)\n",
            "  Installing build dependencies ... \u001b[?25l\u001b[?25hdone\n",
            "  Getting requirements to build wheel ... \u001b[?25l\u001b[?25hdone\n",
            "  Preparing metadata (pyproject.toml) ... \u001b[?25l\u001b[?25hdone\n",
            "Requirement already satisfied: soundfile>=0.9.0.post1 in /usr/local/lib/python3.10/dist-packages (from openl3) (0.12.1)\n",
            "Collecting resampy<0.3.0,>=0.2.1 (from openl3)\n",
            "  Downloading resampy-0.2.2.tar.gz (323 kB)\n",
            "\u001b[2K     \u001b[90m━━━━━━━━━━━━━━━━━━━━━━━━━━━━━━━━━━━━━━━━\u001b[0m \u001b[32m323.4/323.4 kB\u001b[0m \u001b[31m9.8 MB/s\u001b[0m eta \u001b[36m0:00:00\u001b[0m\n",
            "\u001b[?25h  Preparing metadata (setup.py) ... \u001b[?25l\u001b[?25hdone\n",
            "Requirement already satisfied: h5py>=2.7.0 in /usr/local/lib/python3.10/dist-packages (from openl3) (3.9.0)\n",
            "Requirement already satisfied: moviepy>=1.0.0 in /usr/local/lib/python3.10/dist-packages (from openl3) (1.0.3)\n",
            "Requirement already satisfied: scikit-image>=0.14.3 in /usr/local/lib/python3.10/dist-packages (from openl3) (0.19.3)\n",
            "Requirement already satisfied: librosa>=0.7.2 in /usr/local/lib/python3.10/dist-packages (from openl3) (0.10.1)\n",
            "Requirement already satisfied: audioread>=2.1.9 in /usr/local/lib/python3.10/dist-packages (from librosa>=0.7.2->openl3) (3.0.1)\n",
            "Requirement already satisfied: scikit-learn>=0.20.0 in /usr/local/lib/python3.10/dist-packages (from librosa>=0.7.2->openl3) (1.2.2)\n",
            "Requirement already satisfied: joblib>=0.14 in /usr/local/lib/python3.10/dist-packages (from librosa>=0.7.2->openl3) (1.3.2)\n",
            "Requirement already satisfied: decorator>=4.3.0 in /usr/local/lib/python3.10/dist-packages (from librosa>=0.7.2->openl3) (4.4.2)\n",
            "Requirement already satisfied: numba>=0.51.0 in /usr/local/lib/python3.10/dist-packages (from librosa>=0.7.2->openl3) (0.58.1)\n",
            "Requirement already satisfied: pooch>=1.0 in /usr/local/lib/python3.10/dist-packages (from librosa>=0.7.2->openl3) (1.8.0)\n",
            "Requirement already satisfied: soxr>=0.3.2 in /usr/local/lib/python3.10/dist-packages (from librosa>=0.7.2->openl3) (0.3.7)\n",
            "Requirement already satisfied: typing-extensions>=4.1.1 in /usr/local/lib/python3.10/dist-packages (from librosa>=0.7.2->openl3) (4.5.0)\n",
            "Requirement already satisfied: lazy-loader>=0.1 in /usr/local/lib/python3.10/dist-packages (from librosa>=0.7.2->openl3) (0.3)\n",
            "Requirement already satisfied: msgpack>=1.0 in /usr/local/lib/python3.10/dist-packages (from librosa>=0.7.2->openl3) (1.0.7)\n",
            "Requirement already satisfied: tqdm<5.0,>=4.11.2 in /usr/local/lib/python3.10/dist-packages (from moviepy>=1.0.0->openl3) (4.66.1)\n",
            "Requirement already satisfied: requests<3.0,>=2.8.1 in /usr/local/lib/python3.10/dist-packages (from moviepy>=1.0.0->openl3) (2.31.0)\n",
            "Requirement already satisfied: proglog<=1.0.0 in /usr/local/lib/python3.10/dist-packages (from moviepy>=1.0.0->openl3) (0.1.10)\n",
            "Requirement already satisfied: imageio<3.0,>=2.5 in /usr/local/lib/python3.10/dist-packages (from moviepy>=1.0.0->openl3) (2.31.6)\n",
            "Requirement already satisfied: imageio-ffmpeg>=0.2.0 in /usr/local/lib/python3.10/dist-packages (from moviepy>=1.0.0->openl3) (0.4.9)\n",
            "Requirement already satisfied: six>=1.3 in /usr/local/lib/python3.10/dist-packages (from resampy<0.3.0,>=0.2.1->openl3) (1.16.0)\n",
            "Requirement already satisfied: networkx>=2.2 in /usr/local/lib/python3.10/dist-packages (from scikit-image>=0.14.3->openl3) (3.2.1)\n",
            "Requirement already satisfied: pillow!=7.1.0,!=7.1.1,!=8.3.0,>=6.1.0 in /usr/local/lib/python3.10/dist-packages (from scikit-image>=0.14.3->openl3) (9.4.0)\n",
            "Requirement already satisfied: tifffile>=2019.7.26 in /usr/local/lib/python3.10/dist-packages (from scikit-image>=0.14.3->openl3) (2023.12.9)\n",
            "Requirement already satisfied: PyWavelets>=1.1.1 in /usr/local/lib/python3.10/dist-packages (from scikit-image>=0.14.3->openl3) (1.5.0)\n",
            "Requirement already satisfied: packaging>=20.0 in /usr/local/lib/python3.10/dist-packages (from scikit-image>=0.14.3->openl3) (23.2)\n",
            "Requirement already satisfied: cffi>=1.0 in /usr/local/lib/python3.10/dist-packages (from soundfile>=0.9.0.post1->openl3) (1.16.0)\n",
            "Requirement already satisfied: absl-py>=1.0.0 in /usr/local/lib/python3.10/dist-packages (from tensorflow>=2.0.0->openl3) (1.4.0)\n",
            "Requirement already satisfied: astunparse>=1.6.0 in /usr/local/lib/python3.10/dist-packages (from tensorflow>=2.0.0->openl3) (1.6.3)\n",
            "Requirement already satisfied: flatbuffers>=23.5.26 in /usr/local/lib/python3.10/dist-packages (from tensorflow>=2.0.0->openl3) (23.5.26)\n",
            "Requirement already satisfied: gast!=0.5.0,!=0.5.1,!=0.5.2,>=0.2.1 in /usr/local/lib/python3.10/dist-packages (from tensorflow>=2.0.0->openl3) (0.5.4)\n",
            "Requirement already satisfied: google-pasta>=0.1.1 in /usr/local/lib/python3.10/dist-packages (from tensorflow>=2.0.0->openl3) (0.2.0)\n",
            "Requirement already satisfied: libclang>=13.0.0 in /usr/local/lib/python3.10/dist-packages (from tensorflow>=2.0.0->openl3) (16.0.6)\n",
            "Requirement already satisfied: ml-dtypes~=0.2.0 in /usr/local/lib/python3.10/dist-packages (from tensorflow>=2.0.0->openl3) (0.2.0)\n",
            "Requirement already satisfied: opt-einsum>=2.3.2 in /usr/local/lib/python3.10/dist-packages (from tensorflow>=2.0.0->openl3) (3.3.0)\n",
            "Requirement already satisfied: protobuf!=4.21.0,!=4.21.1,!=4.21.2,!=4.21.3,!=4.21.4,!=4.21.5,<5.0.0dev,>=3.20.3 in /usr/local/lib/python3.10/dist-packages (from tensorflow>=2.0.0->openl3) (3.20.3)\n",
            "Requirement already satisfied: setuptools in /usr/local/lib/python3.10/dist-packages (from tensorflow>=2.0.0->openl3) (67.7.2)\n",
            "Requirement already satisfied: termcolor>=1.1.0 in /usr/local/lib/python3.10/dist-packages (from tensorflow>=2.0.0->openl3) (2.4.0)\n",
            "Requirement already satisfied: wrapt<1.15,>=1.11.0 in /usr/local/lib/python3.10/dist-packages (from tensorflow>=2.0.0->openl3) (1.14.1)\n",
            "Requirement already satisfied: tensorflow-io-gcs-filesystem>=0.23.1 in /usr/local/lib/python3.10/dist-packages (from tensorflow>=2.0.0->openl3) (0.35.0)\n",
            "Requirement already satisfied: grpcio<2.0,>=1.24.3 in /usr/local/lib/python3.10/dist-packages (from tensorflow>=2.0.0->openl3) (1.60.0)\n",
            "Requirement already satisfied: tensorboard<2.16,>=2.15 in /usr/local/lib/python3.10/dist-packages (from tensorflow>=2.0.0->openl3) (2.15.1)\n",
            "Requirement already satisfied: tensorflow-estimator<2.16,>=2.15.0 in /usr/local/lib/python3.10/dist-packages (from tensorflow>=2.0.0->openl3) (2.15.0)\n",
            "Requirement already satisfied: keras<2.16,>=2.15.0 in /usr/local/lib/python3.10/dist-packages (from tensorflow>=2.0.0->openl3) (2.15.0)\n",
            "Requirement already satisfied: wheel<1.0,>=0.23.0 in /usr/local/lib/python3.10/dist-packages (from astunparse>=1.6.0->tensorflow>=2.0.0->openl3) (0.42.0)\n",
            "Requirement already satisfied: pycparser in /usr/local/lib/python3.10/dist-packages (from cffi>=1.0->soundfile>=0.9.0.post1->openl3) (2.21)\n",
            "Requirement already satisfied: llvmlite<0.42,>=0.41.0dev0 in /usr/local/lib/python3.10/dist-packages (from numba>=0.51.0->librosa>=0.7.2->openl3) (0.41.1)\n",
            "Requirement already satisfied: platformdirs>=2.5.0 in /usr/local/lib/python3.10/dist-packages (from pooch>=1.0->librosa>=0.7.2->openl3) (4.1.0)\n",
            "Requirement already satisfied: charset-normalizer<4,>=2 in /usr/local/lib/python3.10/dist-packages (from requests<3.0,>=2.8.1->moviepy>=1.0.0->openl3) (3.3.2)\n",
            "Requirement already satisfied: idna<4,>=2.5 in /usr/local/lib/python3.10/dist-packages (from requests<3.0,>=2.8.1->moviepy>=1.0.0->openl3) (3.6)\n",
            "Requirement already satisfied: urllib3<3,>=1.21.1 in /usr/local/lib/python3.10/dist-packages (from requests<3.0,>=2.8.1->moviepy>=1.0.0->openl3) (2.0.7)\n",
            "Requirement already satisfied: certifi>=2017.4.17 in /usr/local/lib/python3.10/dist-packages (from requests<3.0,>=2.8.1->moviepy>=1.0.0->openl3) (2023.11.17)\n",
            "Requirement already satisfied: threadpoolctl>=2.0.0 in /usr/local/lib/python3.10/dist-packages (from scikit-learn>=0.20.0->librosa>=0.7.2->openl3) (3.2.0)\n",
            "Requirement already satisfied: google-auth<3,>=1.6.3 in /usr/local/lib/python3.10/dist-packages (from tensorboard<2.16,>=2.15->tensorflow>=2.0.0->openl3) (2.17.3)\n",
            "Requirement already satisfied: google-auth-oauthlib<2,>=0.5 in /usr/local/lib/python3.10/dist-packages (from tensorboard<2.16,>=2.15->tensorflow>=2.0.0->openl3) (1.2.0)\n",
            "Requirement already satisfied: markdown>=2.6.8 in /usr/local/lib/python3.10/dist-packages (from tensorboard<2.16,>=2.15->tensorflow>=2.0.0->openl3) (3.5.1)\n",
            "Requirement already satisfied: tensorboard-data-server<0.8.0,>=0.7.0 in /usr/local/lib/python3.10/dist-packages (from tensorboard<2.16,>=2.15->tensorflow>=2.0.0->openl3) (0.7.2)\n",
            "Requirement already satisfied: werkzeug>=1.0.1 in /usr/local/lib/python3.10/dist-packages (from tensorboard<2.16,>=2.15->tensorflow>=2.0.0->openl3) (3.0.1)\n",
            "Requirement already satisfied: cachetools<6.0,>=2.0.0 in /usr/local/lib/python3.10/dist-packages (from google-auth<3,>=1.6.3->tensorboard<2.16,>=2.15->tensorflow>=2.0.0->openl3) (5.3.2)\n",
            "Requirement already satisfied: pyasn1-modules>=0.2.1 in /usr/local/lib/python3.10/dist-packages (from google-auth<3,>=1.6.3->tensorboard<2.16,>=2.15->tensorflow>=2.0.0->openl3) (0.3.0)\n",
            "Requirement already satisfied: rsa<5,>=3.1.4 in /usr/local/lib/python3.10/dist-packages (from google-auth<3,>=1.6.3->tensorboard<2.16,>=2.15->tensorflow>=2.0.0->openl3) (4.9)\n",
            "Requirement already satisfied: requests-oauthlib>=0.7.0 in /usr/local/lib/python3.10/dist-packages (from google-auth-oauthlib<2,>=0.5->tensorboard<2.16,>=2.15->tensorflow>=2.0.0->openl3) (1.3.1)\n",
            "Requirement already satisfied: MarkupSafe>=2.1.1 in /usr/local/lib/python3.10/dist-packages (from werkzeug>=1.0.1->tensorboard<2.16,>=2.15->tensorflow>=2.0.0->openl3) (2.1.3)\n",
            "Requirement already satisfied: pyasn1<0.6.0,>=0.4.6 in /usr/local/lib/python3.10/dist-packages (from pyasn1-modules>=0.2.1->google-auth<3,>=1.6.3->tensorboard<2.16,>=2.15->tensorflow>=2.0.0->openl3) (0.5.1)\n",
            "Requirement already satisfied: oauthlib>=3.0.0 in /usr/local/lib/python3.10/dist-packages (from requests-oauthlib>=0.7.0->google-auth-oauthlib<2,>=0.5->tensorboard<2.16,>=2.15->tensorflow>=2.0.0->openl3) (3.2.2)\n",
            "Building wheels for collected packages: openl3, kapre, resampy\n",
            "  Building wheel for openl3 (setup.py) ... \u001b[?25l\u001b[?25hdone\n",
            "  Created wheel for openl3: filename=openl3-0.4.2-py2.py3-none-any.whl size=249327032 sha256=70f695ae3f207f91b87f51f5f1f2e000a9e8af7d987bf5ad74ecc520ef2e5e37\n",
            "  Stored in directory: /root/.cache/pip/wheels/d0/4d/0a/e57b1dc8ead91b3c5709d9de4f02d1cdd3a91f609a8f1c1062\n",
            "  Building wheel for kapre (pyproject.toml) ... \u001b[?25l\u001b[?25hdone\n",
            "  Created wheel for kapre: filename=kapre-0.3.7-py3-none-any.whl size=29603 sha256=b2d964d42381c3a4254da75acf19e0923ad223c8602b3765378332e188ed3124\n",
            "  Stored in directory: /root/.cache/pip/wheels/3e/54/f9/37e9f36590a5431dc207f7dc0eb2e607ff8958d5728e45ef58\n",
            "  Building wheel for resampy (setup.py) ... \u001b[?25l\u001b[?25hdone\n",
            "  Created wheel for resampy: filename=resampy-0.2.2-py3-none-any.whl size=320706 sha256=c0184c90d9d6d07b79c4074b222a9bfab49074326802f1ec746286c0dea6f1ad\n",
            "  Stored in directory: /root/.cache/pip/wheels/e5/a0/79/29e61754e5b3941ad4c7d01bf5bea99768e64e4bdd3180f32b\n",
            "Successfully built openl3 kapre resampy\n",
            "Installing collected packages: resampy, kapre, openl3\n",
            "Successfully installed kapre-0.3.7 openl3-0.4.2 resampy-0.2.2\n"
          ]
        }
      ]
    },
    {
      "cell_type": "code",
      "source": [
        "import openl3\n",
        "import soundfile as sf\n",
        "from sklearn.svm import SVC"
      ],
      "metadata": {
        "id": "wyXfAInNu-Fu"
      },
      "execution_count": null,
      "outputs": []
    },
    {
      "cell_type": "code",
      "source": [
        "path = df.iloc[1]['path']\n",
        "# print(path)\n",
        "class_id = df.iloc[1]['classID']\n",
        "# spectrogram = pre_process(path,44100,4000)"
      ],
      "metadata": {
        "id": "eO60N75RwJMx"
      },
      "execution_count": null,
      "outputs": []
    },
    {
      "cell_type": "code",
      "source": [
        "def embeddings(path):\n",
        "  signal,sr = sf.read(path)\n",
        "  embeddings, _ = openl3.get_audio_embedding(signal,sr)\n",
        "  embeddings = torch.tensor(embeddings).to(device)\n",
        "  return embeddings\n"
      ],
      "metadata": {
        "id": "46flT0pjwTHE"
      },
      "execution_count": null,
      "outputs": []
    },
    {
      "cell_type": "code",
      "source": [
        "random_df = df.sample(frac=0.05)"
      ],
      "metadata": {
        "id": "eIkCqxE7JnuY"
      },
      "execution_count": null,
      "outputs": []
    },
    {
      "cell_type": "code",
      "source": [
        "audio_paths = list(random_df['path'])\n",
        "labels = list(random_df['class'])"
      ],
      "metadata": {
        "id": "qHDp_NwBKWB4"
      },
      "execution_count": null,
      "outputs": []
    },
    {
      "cell_type": "code",
      "source": [
        "len(labels)"
      ],
      "metadata": {
        "colab": {
          "base_uri": "https://localhost:8080/"
        },
        "id": "orgsU16QKkJc",
        "outputId": "315930c9-5759-43b3-b268-ba6d550b5da4"
      },
      "execution_count": null,
      "outputs": [
        {
          "output_type": "execute_result",
          "data": {
            "text/plain": [
              "437"
            ]
          },
          "metadata": {},
          "execution_count": 62
        }
      ]
    },
    {
      "cell_type": "code",
      "source": [
        "classes = list(set(labels))\n",
        "len(classes)"
      ],
      "metadata": {
        "colab": {
          "base_uri": "https://localhost:8080/"
        },
        "id": "SIh69hLGKezR",
        "outputId": "b4b07e21-ca9d-4ba5-8721-3cd89027187e"
      },
      "execution_count": null,
      "outputs": [
        {
          "output_type": "execute_result",
          "data": {
            "text/plain": [
              "10"
            ]
          },
          "metadata": {},
          "execution_count": 63
        }
      ]
    },
    {
      "cell_type": "markdown",
      "source": [
        "Pre-processing"
      ],
      "metadata": {
        "id": "X2qgYkknKdoG"
      }
    },
    {
      "cell_type": "code",
      "source": [
        "import librosa\n",
        "def pre_process1(path,new_sr,max_ms):\n",
        "  signal, sr = librosa.load(path,sr=new_sr)\n",
        "\n",
        "  # print(signal)\n",
        "  # print(sr)\n",
        "  # if(signal.shape[0]==1):\n",
        "    # signal = torch.cat([signal,signal])\n",
        "\n",
        "  # new_sr = 48000\n",
        "  # re_signal1 = T.Resample(sr,new_sr)(signal[:1,:])\n",
        "  # re_signal2 = T.Resample(sr,new_sr)(signal[1:,:])\n",
        "  # re_signal1 = torch.cat([re_signal1,re_signal2])\n",
        "\n",
        "\n",
        "  max_len = new_sr//1000 * max_ms\n",
        "  # print(max_len,re_signal1.shape[1])\n",
        "\n",
        "  if(signal.shape[0]<max_len):\n",
        "    signal = np.pad(signal,int(np.ceil((max_len-signal.shape[0])/2)),mode='reflect')\n",
        "  else:\n",
        "    signal = signal[:max_len]\n",
        "\n",
        "  embeddings, _ = openl3.get_audio_embedding(signal,sr)\n",
        "  embeddings = torch.tensor(embeddings).to(device)\n",
        "  return embeddings\n",
        "\n",
        "\n",
        "\n",
        "\n",
        "\n"
      ],
      "metadata": {
        "id": "__oznOkHKsDW"
      },
      "execution_count": null,
      "outputs": []
    },
    {
      "cell_type": "code",
      "source": [
        "X = []\n",
        "for i,a in enumerate(audio_paths):\n",
        "  if(i%100==0):\n",
        "    print(i)\n",
        "  X.append(pre_process1(a,44100,4000).flatten().cpu().numpy())\n",
        "\n",
        "\n"
      ],
      "metadata": {
        "colab": {
          "base_uri": "https://localhost:8080/"
        },
        "id": "rWCt0HMCGiGs",
        "outputId": "7033df25-0959-4e6e-f4bf-4a1fcf3ef4c9"
      },
      "execution_count": null,
      "outputs": [
        {
          "output_type": "stream",
          "name": "stdout",
          "text": [
            "0\n",
            "2/2 [==============================] - 1s 154ms/step\n",
            "2/2 [==============================] - 1s 120ms/step\n",
            "2/2 [==============================] - 1s 122ms/step\n",
            "2/2 [==============================] - 1s 118ms/step\n",
            "2/2 [==============================] - 1s 153ms/step\n",
            "2/2 [==============================] - 2s 153ms/step\n",
            "2/2 [==============================] - 1s 150ms/step\n",
            "2/2 [==============================] - 0s 126ms/step\n",
            "2/2 [==============================] - 0s 123ms/step\n",
            "2/2 [==============================] - 1s 121ms/step\n",
            "2/2 [==============================] - 0s 120ms/step\n",
            "2/2 [==============================] - 0s 119ms/step\n",
            "2/2 [==============================] - 0s 123ms/step\n",
            "2/2 [==============================] - 0s 123ms/step\n",
            "2/2 [==============================] - 1s 151ms/step\n",
            "2/2 [==============================] - 1s 149ms/step\n",
            "2/2 [==============================] - 0s 122ms/step\n",
            "2/2 [==============================] - 1s 154ms/step\n",
            "2/2 [==============================] - 0s 122ms/step\n",
            "2/2 [==============================] - 0s 123ms/step\n",
            "2/2 [==============================] - 0s 121ms/step\n",
            "2/2 [==============================] - 0s 126ms/step\n",
            "2/2 [==============================] - 0s 125ms/step\n",
            "2/2 [==============================] - 1s 122ms/step\n",
            "2/2 [==============================] - 1s 157ms/step\n",
            "2/2 [==============================] - 1s 150ms/step\n",
            "2/2 [==============================] - 1s 125ms/step\n",
            "2/2 [==============================] - 1s 123ms/step\n",
            "2/2 [==============================] - 1s 126ms/step\n",
            "2/2 [==============================] - 1s 122ms/step\n",
            "2/2 [==============================] - 0s 121ms/step\n",
            "2/2 [==============================] - 1s 123ms/step\n",
            "2/2 [==============================] - 1s 122ms/step\n",
            "2/2 [==============================] - 1s 126ms/step\n",
            "2/2 [==============================] - 1s 123ms/step\n",
            "2/2 [==============================] - 0s 124ms/step\n",
            "2/2 [==============================] - 0s 122ms/step\n",
            "2/2 [==============================] - 0s 125ms/step\n",
            "2/2 [==============================] - 0s 120ms/step\n",
            "2/2 [==============================] - 1s 122ms/step\n",
            "2/2 [==============================] - 1s 128ms/step\n",
            "2/2 [==============================] - 1s 124ms/step\n",
            "2/2 [==============================] - 1s 139ms/step\n",
            "2/2 [==============================] - 1s 123ms/step\n",
            "2/2 [==============================] - 1s 121ms/step\n",
            "2/2 [==============================] - 0s 122ms/step\n",
            "2/2 [==============================] - 0s 125ms/step\n",
            "2/2 [==============================] - 0s 124ms/step\n",
            "2/2 [==============================] - 0s 124ms/step\n",
            "2/2 [==============================] - 0s 132ms/step\n",
            "2/2 [==============================] - 0s 122ms/step\n",
            "2/2 [==============================] - 1s 124ms/step\n",
            "2/2 [==============================] - 1s 125ms/step\n",
            "2/2 [==============================] - 1s 123ms/step\n",
            "2/2 [==============================] - 1s 153ms/step\n",
            "2/2 [==============================] - 0s 120ms/step\n",
            "2/2 [==============================] - 1s 126ms/step\n",
            "2/2 [==============================] - 1s 153ms/step\n",
            "2/2 [==============================] - 1s 121ms/step\n",
            "2/2 [==============================] - 1s 126ms/step\n",
            "2/2 [==============================] - 1s 129ms/step\n",
            "2/2 [==============================] - 1s 153ms/step\n",
            "2/2 [==============================] - 1s 123ms/step\n",
            "2/2 [==============================] - 1s 127ms/step\n",
            "2/2 [==============================] - 0s 126ms/step\n",
            "2/2 [==============================] - 1s 126ms/step\n",
            "2/2 [==============================] - 0s 122ms/step\n",
            "2/2 [==============================] - 0s 123ms/step\n",
            "2/2 [==============================] - 0s 123ms/step\n",
            "2/2 [==============================] - 0s 125ms/step\n",
            "2/2 [==============================] - 1s 127ms/step\n",
            "2/2 [==============================] - 1s 128ms/step\n",
            "2/2 [==============================] - 1s 126ms/step\n",
            "2/2 [==============================] - 0s 136ms/step\n",
            "2/2 [==============================] - 0s 126ms/step\n",
            "2/2 [==============================] - 0s 129ms/step\n",
            "2/2 [==============================] - 0s 125ms/step\n",
            "2/2 [==============================] - 1s 127ms/step\n",
            "2/2 [==============================] - 0s 122ms/step\n",
            "2/2 [==============================] - 1s 124ms/step\n",
            "2/2 [==============================] - 1s 155ms/step\n",
            "2/2 [==============================] - 1s 130ms/step\n",
            "2/2 [==============================] - 0s 122ms/step\n",
            "2/2 [==============================] - 0s 147ms/step\n",
            "2/2 [==============================] - 0s 127ms/step\n",
            "2/2 [==============================] - 0s 126ms/step\n",
            "2/2 [==============================] - 0s 124ms/step\n",
            "2/2 [==============================] - 0s 121ms/step\n",
            "2/2 [==============================] - 0s 121ms/step\n",
            "2/2 [==============================] - 1s 127ms/step\n",
            "2/2 [==============================] - 1s 157ms/step\n",
            "2/2 [==============================] - 1s 121ms/step\n",
            "2/2 [==============================] - 1s 126ms/step\n",
            "2/2 [==============================] - 1s 123ms/step\n",
            "2/2 [==============================] - 1s 124ms/step\n",
            "2/2 [==============================] - 1s 126ms/step\n",
            "2/2 [==============================] - 1s 126ms/step\n",
            "2/2 [==============================] - 1s 123ms/step\n",
            "2/2 [==============================] - 1s 154ms/step\n",
            "2/2 [==============================] - 1s 148ms/step\n",
            "100\n",
            "2/2 [==============================] - 0s 123ms/step\n",
            "2/2 [==============================] - 0s 125ms/step\n",
            "2/2 [==============================] - 0s 124ms/step\n",
            "2/2 [==============================] - 0s 126ms/step\n",
            "2/2 [==============================] - 0s 122ms/step\n",
            "2/2 [==============================] - 0s 125ms/step\n",
            "2/2 [==============================] - 0s 126ms/step\n",
            "2/2 [==============================] - 1s 126ms/step\n",
            "2/2 [==============================] - 1s 125ms/step\n",
            "2/2 [==============================] - 1s 128ms/step\n",
            "2/2 [==============================] - 0s 126ms/step\n",
            "2/2 [==============================] - 0s 125ms/step\n",
            "2/2 [==============================] - 0s 126ms/step\n",
            "2/2 [==============================] - 1s 124ms/step\n",
            "2/2 [==============================] - 0s 125ms/step\n",
            "2/2 [==============================] - 0s 127ms/step\n",
            "2/2 [==============================] - 0s 125ms/step\n",
            "2/2 [==============================] - 1s 129ms/step\n",
            "2/2 [==============================] - 1s 154ms/step\n",
            "2/2 [==============================] - 1s 125ms/step\n",
            "2/2 [==============================] - 0s 124ms/step\n",
            "2/2 [==============================] - 0s 123ms/step\n",
            "2/2 [==============================] - 1s 157ms/step\n",
            "2/2 [==============================] - 1s 123ms/step\n",
            "2/2 [==============================] - 1s 126ms/step\n",
            "2/2 [==============================] - 1s 125ms/step\n",
            "2/2 [==============================] - 1s 152ms/step\n",
            "2/2 [==============================] - 1s 151ms/step\n",
            "2/2 [==============================] - 1s 127ms/step\n",
            "2/2 [==============================] - 1s 124ms/step\n",
            "2/2 [==============================] - 1s 124ms/step\n",
            "2/2 [==============================] - 1s 126ms/step\n",
            "2/2 [==============================] - 0s 124ms/step\n",
            "2/2 [==============================] - 0s 126ms/step\n",
            "2/2 [==============================] - 0s 124ms/step\n",
            "2/2 [==============================] - 1s 127ms/step\n",
            "2/2 [==============================] - 1s 138ms/step\n",
            "2/2 [==============================] - 1s 124ms/step\n",
            "2/2 [==============================] - 0s 141ms/step\n",
            "2/2 [==============================] - 0s 129ms/step\n",
            "2/2 [==============================] - 0s 126ms/step\n",
            "2/2 [==============================] - 0s 125ms/step\n",
            "2/2 [==============================] - 0s 127ms/step\n",
            "2/2 [==============================] - 0s 125ms/step\n",
            "2/2 [==============================] - 0s 123ms/step\n",
            "2/2 [==============================] - 1s 125ms/step\n",
            "2/2 [==============================] - 1s 125ms/step\n",
            "2/2 [==============================] - 1s 146ms/step\n",
            "2/2 [==============================] - 0s 134ms/step\n",
            "2/2 [==============================] - 0s 124ms/step\n",
            "2/2 [==============================] - 0s 125ms/step\n",
            "2/2 [==============================] - 0s 126ms/step\n",
            "2/2 [==============================] - 0s 124ms/step\n",
            "2/2 [==============================] - 0s 123ms/step\n",
            "2/2 [==============================] - 2s 155ms/step\n",
            "2/2 [==============================] - 1s 150ms/step\n",
            "2/2 [==============================] - 1s 131ms/step\n",
            "2/2 [==============================] - 1s 132ms/step\n",
            "2/2 [==============================] - 1s 128ms/step\n",
            "2/2 [==============================] - 1s 124ms/step\n",
            "2/2 [==============================] - 1s 124ms/step\n",
            "2/2 [==============================] - 1s 129ms/step\n",
            "2/2 [==============================] - 1s 124ms/step\n",
            "2/2 [==============================] - 1s 124ms/step\n",
            "2/2 [==============================] - 1s 125ms/step\n",
            "2/2 [==============================] - 1s 128ms/step\n",
            "2/2 [==============================] - 1s 126ms/step\n",
            "2/2 [==============================] - 0s 125ms/step\n",
            "2/2 [==============================] - 0s 122ms/step\n",
            "2/2 [==============================] - 0s 127ms/step\n",
            "2/2 [==============================] - 0s 126ms/step\n",
            "2/2 [==============================] - 0s 125ms/step\n",
            "2/2 [==============================] - 0s 128ms/step\n",
            "2/2 [==============================] - 0s 129ms/step\n",
            "2/2 [==============================] - 1s 127ms/step\n",
            "2/2 [==============================] - 1s 130ms/step\n",
            "2/2 [==============================] - 0s 123ms/step\n",
            "2/2 [==============================] - 0s 123ms/step\n",
            "2/2 [==============================] - 0s 127ms/step\n",
            "2/2 [==============================] - 0s 124ms/step\n",
            "2/2 [==============================] - 0s 128ms/step\n",
            "2/2 [==============================] - 0s 125ms/step\n",
            "2/2 [==============================] - 1s 124ms/step\n",
            "2/2 [==============================] - 1s 128ms/step\n",
            "2/2 [==============================] - 1s 155ms/step\n",
            "2/2 [==============================] - 1s 124ms/step\n",
            "2/2 [==============================] - 0s 124ms/step\n",
            "2/2 [==============================] - 1s 148ms/step\n",
            "2/2 [==============================] - 1s 136ms/step\n",
            "2/2 [==============================] - 1s 123ms/step\n",
            "2/2 [==============================] - 1s 122ms/step\n",
            "2/2 [==============================] - 1s 123ms/step\n",
            "2/2 [==============================] - 1s 125ms/step\n",
            "2/2 [==============================] - 1s 151ms/step\n",
            "2/2 [==============================] - 1s 155ms/step\n",
            "2/2 [==============================] - 0s 122ms/step\n",
            "2/2 [==============================] - 1s 120ms/step\n",
            "2/2 [==============================] - 0s 126ms/step\n",
            "2/2 [==============================] - 0s 121ms/step\n",
            "2/2 [==============================] - 0s 125ms/step\n",
            "200\n",
            "2/2 [==============================] - 0s 120ms/step\n",
            "2/2 [==============================] - 0s 124ms/step\n",
            "2/2 [==============================] - 1s 126ms/step\n",
            "2/2 [==============================] - 1s 144ms/step\n",
            "2/2 [==============================] - 0s 133ms/step\n",
            "2/2 [==============================] - 0s 123ms/step\n",
            "2/2 [==============================] - 0s 122ms/step\n",
            "2/2 [==============================] - 0s 124ms/step\n",
            "2/2 [==============================] - 0s 124ms/step\n",
            "2/2 [==============================] - 0s 126ms/step\n",
            "2/2 [==============================] - 0s 125ms/step\n",
            "2/2 [==============================] - 1s 127ms/step\n",
            "2/2 [==============================] - 1s 154ms/step\n",
            "2/2 [==============================] - 1s 154ms/step\n",
            "2/2 [==============================] - 0s 125ms/step\n",
            "2/2 [==============================] - 0s 124ms/step\n",
            "2/2 [==============================] - 0s 126ms/step\n",
            "2/2 [==============================] - 0s 126ms/step\n",
            "2/2 [==============================] - 1s 153ms/step\n",
            "2/2 [==============================] - 1s 123ms/step\n",
            "2/2 [==============================] - 1s 127ms/step\n",
            "2/2 [==============================] - 1s 154ms/step\n",
            "2/2 [==============================] - 1s 153ms/step\n",
            "2/2 [==============================] - 1s 124ms/step\n",
            "2/2 [==============================] - 1s 125ms/step\n",
            "2/2 [==============================] - 1s 125ms/step\n",
            "2/2 [==============================] - 0s 124ms/step\n",
            "2/2 [==============================] - 1s 125ms/step\n",
            "2/2 [==============================] - 0s 127ms/step\n",
            "2/2 [==============================] - 1s 127ms/step\n",
            "2/2 [==============================] - 1s 128ms/step\n",
            "2/2 [==============================] - 1s 155ms/step\n",
            "2/2 [==============================] - 0s 122ms/step\n",
            "2/2 [==============================] - 0s 122ms/step\n",
            "2/2 [==============================] - 0s 123ms/step\n",
            "2/2 [==============================] - 0s 126ms/step\n",
            "2/2 [==============================] - 0s 123ms/step\n",
            "2/2 [==============================] - 0s 122ms/step\n",
            "2/2 [==============================] - 0s 126ms/step\n",
            "2/2 [==============================] - 1s 129ms/step\n",
            "2/2 [==============================] - 1s 126ms/step\n",
            "2/2 [==============================] - 1s 147ms/step\n",
            "2/2 [==============================] - 0s 126ms/step\n",
            "2/2 [==============================] - 0s 125ms/step\n",
            "2/2 [==============================] - 0s 126ms/step\n",
            "2/2 [==============================] - 0s 123ms/step\n",
            "2/2 [==============================] - 0s 125ms/step\n",
            "2/2 [==============================] - 0s 124ms/step\n",
            "2/2 [==============================] - 0s 121ms/step\n",
            "2/2 [==============================] - 1s 124ms/step\n",
            "2/2 [==============================] - 1s 125ms/step\n",
            "2/2 [==============================] - 2s 156ms/step\n",
            "2/2 [==============================] - 1s 123ms/step\n",
            "2/2 [==============================] - 1s 125ms/step\n",
            "2/2 [==============================] - 1s 126ms/step\n",
            "2/2 [==============================] - 1s 126ms/step\n",
            "2/2 [==============================] - 1s 126ms/step\n",
            "2/2 [==============================] - 1s 123ms/step\n",
            "2/2 [==============================] - 1s 156ms/step\n",
            "2/2 [==============================] - 1s 155ms/step\n",
            "2/2 [==============================] - 0s 121ms/step\n",
            "2/2 [==============================] - 0s 120ms/step\n",
            "2/2 [==============================] - 1s 125ms/step\n",
            "2/2 [==============================] - 0s 124ms/step\n",
            "2/2 [==============================] - 0s 126ms/step\n",
            "2/2 [==============================] - 0s 124ms/step\n",
            "2/2 [==============================] - 0s 126ms/step\n",
            "2/2 [==============================] - 1s 127ms/step\n",
            "2/2 [==============================] - 1s 127ms/step\n",
            "2/2 [==============================] - 1s 126ms/step\n",
            "2/2 [==============================] - 0s 124ms/step\n",
            "2/2 [==============================] - 0s 122ms/step\n",
            "2/2 [==============================] - 0s 129ms/step\n",
            "2/2 [==============================] - 0s 124ms/step\n",
            "2/2 [==============================] - 0s 124ms/step\n",
            "2/2 [==============================] - 0s 127ms/step\n",
            "2/2 [==============================] - 0s 132ms/step\n",
            "2/2 [==============================] - 1s 155ms/step\n",
            "2/2 [==============================] - 1s 154ms/step\n",
            "2/2 [==============================] - 0s 121ms/step\n",
            "2/2 [==============================] - 0s 126ms/step\n",
            "2/2 [==============================] - 0s 124ms/step\n",
            "2/2 [==============================] - 1s 126ms/step\n",
            "2/2 [==============================] - 1s 153ms/step\n",
            "2/2 [==============================] - 1s 125ms/step\n",
            "2/2 [==============================] - 1s 123ms/step\n",
            "2/2 [==============================] - 1s 157ms/step\n",
            "2/2 [==============================] - 1s 151ms/step\n",
            "2/2 [==============================] - 1s 128ms/step\n",
            "2/2 [==============================] - 1s 125ms/step\n",
            "2/2 [==============================] - 1s 124ms/step\n",
            "2/2 [==============================] - 1s 123ms/step\n",
            "2/2 [==============================] - 1s 125ms/step\n",
            "2/2 [==============================] - 1s 127ms/step\n",
            "2/2 [==============================] - 1s 127ms/step\n",
            "2/2 [==============================] - 1s 125ms/step\n",
            "2/2 [==============================] - 1s 158ms/step\n",
            "2/2 [==============================] - 1s 154ms/step\n",
            "2/2 [==============================] - 0s 123ms/step\n",
            "2/2 [==============================] - 1s 123ms/step\n",
            "300\n",
            "2/2 [==============================] - 0s 123ms/step\n",
            "2/2 [==============================] - 1s 125ms/step\n",
            "2/2 [==============================] - 0s 125ms/step\n",
            "2/2 [==============================] - 0s 125ms/step\n",
            "2/2 [==============================] - 0s 125ms/step\n",
            "2/2 [==============================] - 1s 128ms/step\n",
            "2/2 [==============================] - 1s 128ms/step\n",
            "2/2 [==============================] - 1s 147ms/step\n",
            "2/2 [==============================] - 0s 125ms/step\n",
            "2/2 [==============================] - 0s 124ms/step\n",
            "2/2 [==============================] - 0s 123ms/step\n",
            "2/2 [==============================] - 0s 125ms/step\n",
            "2/2 [==============================] - 1s 125ms/step\n",
            "2/2 [==============================] - 0s 123ms/step\n",
            "2/2 [==============================] - 0s 127ms/step\n",
            "2/2 [==============================] - 1s 153ms/step\n",
            "2/2 [==============================] - 1s 151ms/step\n",
            "2/2 [==============================] - 1s 124ms/step\n",
            "2/2 [==============================] - 1s 123ms/step\n",
            "2/2 [==============================] - 1s 126ms/step\n",
            "2/2 [==============================] - 1s 125ms/step\n",
            "2/2 [==============================] - 1s 127ms/step\n",
            "2/2 [==============================] - 1s 125ms/step\n",
            "2/2 [==============================] - 1s 127ms/step\n",
            "2/2 [==============================] - 1s 132ms/step\n",
            "2/2 [==============================] - 1s 120ms/step\n",
            "2/2 [==============================] - 1s 125ms/step\n",
            "2/2 [==============================] - 0s 120ms/step\n",
            "2/2 [==============================] - 0s 125ms/step\n",
            "2/2 [==============================] - 0s 124ms/step\n",
            "2/2 [==============================] - 1s 125ms/step\n",
            "2/2 [==============================] - 0s 123ms/step\n",
            "2/2 [==============================] - 0s 126ms/step\n",
            "2/2 [==============================] - 1s 128ms/step\n",
            "2/2 [==============================] - 1s 156ms/step\n",
            "2/2 [==============================] - 0s 132ms/step\n",
            "2/2 [==============================] - 0s 122ms/step\n",
            "2/2 [==============================] - 0s 139ms/step\n",
            "2/2 [==============================] - 0s 124ms/step\n",
            "2/2 [==============================] - 0s 124ms/step\n",
            "2/2 [==============================] - 0s 126ms/step\n",
            "2/2 [==============================] - 0s 123ms/step\n",
            "2/2 [==============================] - 1s 124ms/step\n",
            "2/2 [==============================] - 1s 125ms/step\n",
            "2/2 [==============================] - 1s 124ms/step\n",
            "2/2 [==============================] - 0s 124ms/step\n",
            "2/2 [==============================] - 0s 127ms/step\n",
            "2/2 [==============================] - 1s 128ms/step\n",
            "2/2 [==============================] - 1s 158ms/step\n",
            "2/2 [==============================] - 1s 126ms/step\n",
            "2/2 [==============================] - 1s 124ms/step\n",
            "2/2 [==============================] - 1s 127ms/step\n",
            "2/2 [==============================] - 1s 149ms/step\n",
            "2/2 [==============================] - 1s 155ms/step\n",
            "2/2 [==============================] - 1s 123ms/step\n",
            "2/2 [==============================] - 1s 126ms/step\n",
            "2/2 [==============================] - 1s 125ms/step\n",
            "2/2 [==============================] - 1s 123ms/step\n",
            "2/2 [==============================] - 1s 124ms/step\n",
            "2/2 [==============================] - 0s 125ms/step\n",
            "2/2 [==============================] - 0s 125ms/step\n",
            "2/2 [==============================] - 1s 147ms/step\n",
            "2/2 [==============================] - 1s 123ms/step\n",
            "2/2 [==============================] - 1s 126ms/step\n",
            "2/2 [==============================] - 0s 127ms/step\n",
            "2/2 [==============================] - 0s 128ms/step\n",
            "2/2 [==============================] - 0s 125ms/step\n",
            "2/2 [==============================] - 0s 122ms/step\n",
            "2/2 [==============================] - 0s 125ms/step\n",
            "2/2 [==============================] - 0s 124ms/step\n",
            "2/2 [==============================] - 1s 125ms/step\n",
            "2/2 [==============================] - 1s 133ms/step\n",
            "2/2 [==============================] - 1s 140ms/step\n",
            "2/2 [==============================] - 0s 126ms/step\n",
            "2/2 [==============================] - 0s 124ms/step\n",
            "2/2 [==============================] - 0s 127ms/step\n",
            "2/2 [==============================] - 0s 124ms/step\n",
            "2/2 [==============================] - 0s 124ms/step\n",
            "2/2 [==============================] - 0s 124ms/step\n",
            "2/2 [==============================] - 0s 124ms/step\n",
            "2/2 [==============================] - 1s 155ms/step\n",
            "2/2 [==============================] - 1s 152ms/step\n",
            "2/2 [==============================] - 1s 123ms/step\n",
            "2/2 [==============================] - 1s 120ms/step\n",
            "2/2 [==============================] - 1s 126ms/step\n",
            "2/2 [==============================] - 1s 125ms/step\n",
            "2/2 [==============================] - 1s 121ms/step\n",
            "2/2 [==============================] - 1s 139ms/step\n",
            "2/2 [==============================] - 1s 128ms/step\n",
            "2/2 [==============================] - 1s 126ms/step\n",
            "2/2 [==============================] - 1s 126ms/step\n",
            "2/2 [==============================] - 1s 148ms/step\n",
            "2/2 [==============================] - 0s 136ms/step\n",
            "2/2 [==============================] - 0s 123ms/step\n",
            "2/2 [==============================] - 0s 123ms/step\n",
            "2/2 [==============================] - 0s 125ms/step\n",
            "2/2 [==============================] - 0s 127ms/step\n",
            "2/2 [==============================] - 0s 126ms/step\n",
            "2/2 [==============================] - 1s 124ms/step\n",
            "2/2 [==============================] - 1s 127ms/step\n",
            "400\n",
            "2/2 [==============================] - 1s 127ms/step\n",
            "2/2 [==============================] - 0s 125ms/step\n",
            "2/2 [==============================] - 0s 125ms/step\n",
            "2/2 [==============================] - 0s 124ms/step\n",
            "2/2 [==============================] - 0s 128ms/step\n",
            "2/2 [==============================] - 0s 126ms/step\n",
            "2/2 [==============================] - 0s 123ms/step\n",
            "2/2 [==============================] - 0s 124ms/step\n",
            "2/2 [==============================] - 0s 126ms/step\n",
            "2/2 [==============================] - 1s 148ms/step\n",
            "2/2 [==============================] - 1s 127ms/step\n",
            "2/2 [==============================] - 0s 123ms/step\n",
            "2/2 [==============================] - 0s 124ms/step\n",
            "2/2 [==============================] - 1s 153ms/step\n",
            "2/2 [==============================] - 1s 121ms/step\n",
            "2/2 [==============================] - 1s 125ms/step\n",
            "2/2 [==============================] - 1s 126ms/step\n",
            "2/2 [==============================] - 1s 126ms/step\n",
            "2/2 [==============================] - 1s 152ms/step\n",
            "2/2 [==============================] - 1s 155ms/step\n",
            "2/2 [==============================] - 1s 123ms/step\n",
            "2/2 [==============================] - 0s 122ms/step\n",
            "2/2 [==============================] - 1s 126ms/step\n",
            "2/2 [==============================] - 0s 125ms/step\n",
            "2/2 [==============================] - 1s 124ms/step\n",
            "2/2 [==============================] - 0s 124ms/step\n",
            "2/2 [==============================] - 1s 126ms/step\n",
            "2/2 [==============================] - 1s 127ms/step\n",
            "2/2 [==============================] - 1s 127ms/step\n",
            "2/2 [==============================] - 0s 123ms/step\n",
            "2/2 [==============================] - 0s 123ms/step\n",
            "2/2 [==============================] - 0s 130ms/step\n",
            "2/2 [==============================] - 0s 121ms/step\n",
            "2/2 [==============================] - 0s 126ms/step\n",
            "2/2 [==============================] - 0s 128ms/step\n",
            "2/2 [==============================] - 0s 122ms/step\n",
            "2/2 [==============================] - 1s 130ms/step\n"
          ]
        }
      ]
    },
    {
      "cell_type": "code",
      "source": [
        "classes"
      ],
      "metadata": {
        "colab": {
          "base_uri": "https://localhost:8080/"
        },
        "id": "yDFp2emOHM6b",
        "outputId": "40302821-0fd2-4465-a3a3-642de0e8d5d4"
      },
      "execution_count": null,
      "outputs": [
        {
          "output_type": "execute_result",
          "data": {
            "text/plain": [
              "['air_conditioner',\n",
              " 'children_playing',\n",
              " 'engine_idling',\n",
              " 'street_music',\n",
              " 'jackhammer',\n",
              " 'drilling',\n",
              " 'gun_shot',\n",
              " 'siren',\n",
              " 'dog_bark',\n",
              " 'car_horn']"
            ]
          },
          "metadata": {},
          "execution_count": 48
        }
      ]
    },
    {
      "cell_type": "code",
      "source": [
        "from sklearn.pipeline import make_pipeline\n",
        "from sklearn.preprocessing import StandardScaler\n",
        "from sklearn.model_selection import train_test_split\n",
        "from sklearn.metrics import accuracy_score,precision_score,recall_score,f1_score,classification_report"
      ],
      "metadata": {
        "id": "rwJ4hqKWPjIn"
      },
      "execution_count": null,
      "outputs": []
    },
    {
      "cell_type": "code",
      "source": [
        "X_train, X_test, y_train, y_test = train_test_split(X, labels, test_size=0.2, random_state=15)"
      ],
      "metadata": {
        "id": "Novw-fbKPjj1"
      },
      "execution_count": null,
      "outputs": []
    },
    {
      "cell_type": "code",
      "source": [
        "classifier = make_pipeline(StandardScaler(), SVC(kernel='linear'))\n",
        "classifier.fit(X_train, y_train)"
      ],
      "metadata": {
        "colab": {
          "base_uri": "https://localhost:8080/",
          "height": 126
        },
        "id": "JLGjU4DTQTt4",
        "outputId": "abbea089-91bd-4ba0-b9d1-257e10c4c35e"
      },
      "execution_count": null,
      "outputs": [
        {
          "output_type": "execute_result",
          "data": {
            "text/plain": [
              "Pipeline(steps=[('standardscaler', StandardScaler()),\n",
              "                ('svc', SVC(kernel='linear'))])"
            ],
            "text/html": [
              "<style>#sk-container-id-1 {color: black;background-color: white;}#sk-container-id-1 pre{padding: 0;}#sk-container-id-1 div.sk-toggleable {background-color: white;}#sk-container-id-1 label.sk-toggleable__label {cursor: pointer;display: block;width: 100%;margin-bottom: 0;padding: 0.3em;box-sizing: border-box;text-align: center;}#sk-container-id-1 label.sk-toggleable__label-arrow:before {content: \"▸\";float: left;margin-right: 0.25em;color: #696969;}#sk-container-id-1 label.sk-toggleable__label-arrow:hover:before {color: black;}#sk-container-id-1 div.sk-estimator:hover label.sk-toggleable__label-arrow:before {color: black;}#sk-container-id-1 div.sk-toggleable__content {max-height: 0;max-width: 0;overflow: hidden;text-align: left;background-color: #f0f8ff;}#sk-container-id-1 div.sk-toggleable__content pre {margin: 0.2em;color: black;border-radius: 0.25em;background-color: #f0f8ff;}#sk-container-id-1 input.sk-toggleable__control:checked~div.sk-toggleable__content {max-height: 200px;max-width: 100%;overflow: auto;}#sk-container-id-1 input.sk-toggleable__control:checked~label.sk-toggleable__label-arrow:before {content: \"▾\";}#sk-container-id-1 div.sk-estimator input.sk-toggleable__control:checked~label.sk-toggleable__label {background-color: #d4ebff;}#sk-container-id-1 div.sk-label input.sk-toggleable__control:checked~label.sk-toggleable__label {background-color: #d4ebff;}#sk-container-id-1 input.sk-hidden--visually {border: 0;clip: rect(1px 1px 1px 1px);clip: rect(1px, 1px, 1px, 1px);height: 1px;margin: -1px;overflow: hidden;padding: 0;position: absolute;width: 1px;}#sk-container-id-1 div.sk-estimator {font-family: monospace;background-color: #f0f8ff;border: 1px dotted black;border-radius: 0.25em;box-sizing: border-box;margin-bottom: 0.5em;}#sk-container-id-1 div.sk-estimator:hover {background-color: #d4ebff;}#sk-container-id-1 div.sk-parallel-item::after {content: \"\";width: 100%;border-bottom: 1px solid gray;flex-grow: 1;}#sk-container-id-1 div.sk-label:hover label.sk-toggleable__label {background-color: #d4ebff;}#sk-container-id-1 div.sk-serial::before {content: \"\";position: absolute;border-left: 1px solid gray;box-sizing: border-box;top: 0;bottom: 0;left: 50%;z-index: 0;}#sk-container-id-1 div.sk-serial {display: flex;flex-direction: column;align-items: center;background-color: white;padding-right: 0.2em;padding-left: 0.2em;position: relative;}#sk-container-id-1 div.sk-item {position: relative;z-index: 1;}#sk-container-id-1 div.sk-parallel {display: flex;align-items: stretch;justify-content: center;background-color: white;position: relative;}#sk-container-id-1 div.sk-item::before, #sk-container-id-1 div.sk-parallel-item::before {content: \"\";position: absolute;border-left: 1px solid gray;box-sizing: border-box;top: 0;bottom: 0;left: 50%;z-index: -1;}#sk-container-id-1 div.sk-parallel-item {display: flex;flex-direction: column;z-index: 1;position: relative;background-color: white;}#sk-container-id-1 div.sk-parallel-item:first-child::after {align-self: flex-end;width: 50%;}#sk-container-id-1 div.sk-parallel-item:last-child::after {align-self: flex-start;width: 50%;}#sk-container-id-1 div.sk-parallel-item:only-child::after {width: 0;}#sk-container-id-1 div.sk-dashed-wrapped {border: 1px dashed gray;margin: 0 0.4em 0.5em 0.4em;box-sizing: border-box;padding-bottom: 0.4em;background-color: white;}#sk-container-id-1 div.sk-label label {font-family: monospace;font-weight: bold;display: inline-block;line-height: 1.2em;}#sk-container-id-1 div.sk-label-container {text-align: center;}#sk-container-id-1 div.sk-container {/* jupyter's `normalize.less` sets `[hidden] { display: none; }` but bootstrap.min.css set `[hidden] { display: none !important; }` so we also need the `!important` here to be able to override the default hidden behavior on the sphinx rendered scikit-learn.org. See: https://github.com/scikit-learn/scikit-learn/issues/21755 */display: inline-block !important;position: relative;}#sk-container-id-1 div.sk-text-repr-fallback {display: none;}</style><div id=\"sk-container-id-1\" class=\"sk-top-container\"><div class=\"sk-text-repr-fallback\"><pre>Pipeline(steps=[(&#x27;standardscaler&#x27;, StandardScaler()),\n",
              "                (&#x27;svc&#x27;, SVC(kernel=&#x27;linear&#x27;))])</pre><b>In a Jupyter environment, please rerun this cell to show the HTML representation or trust the notebook. <br />On GitHub, the HTML representation is unable to render, please try loading this page with nbviewer.org.</b></div><div class=\"sk-container\" hidden><div class=\"sk-item sk-dashed-wrapped\"><div class=\"sk-label-container\"><div class=\"sk-label sk-toggleable\"><input class=\"sk-toggleable__control sk-hidden--visually\" id=\"sk-estimator-id-1\" type=\"checkbox\" ><label for=\"sk-estimator-id-1\" class=\"sk-toggleable__label sk-toggleable__label-arrow\">Pipeline</label><div class=\"sk-toggleable__content\"><pre>Pipeline(steps=[(&#x27;standardscaler&#x27;, StandardScaler()),\n",
              "                (&#x27;svc&#x27;, SVC(kernel=&#x27;linear&#x27;))])</pre></div></div></div><div class=\"sk-serial\"><div class=\"sk-item\"><div class=\"sk-estimator sk-toggleable\"><input class=\"sk-toggleable__control sk-hidden--visually\" id=\"sk-estimator-id-2\" type=\"checkbox\" ><label for=\"sk-estimator-id-2\" class=\"sk-toggleable__label sk-toggleable__label-arrow\">StandardScaler</label><div class=\"sk-toggleable__content\"><pre>StandardScaler()</pre></div></div></div><div class=\"sk-item\"><div class=\"sk-estimator sk-toggleable\"><input class=\"sk-toggleable__control sk-hidden--visually\" id=\"sk-estimator-id-3\" type=\"checkbox\" ><label for=\"sk-estimator-id-3\" class=\"sk-toggleable__label sk-toggleable__label-arrow\">SVC</label><div class=\"sk-toggleable__content\"><pre>SVC(kernel=&#x27;linear&#x27;)</pre></div></div></div></div></div></div></div>"
            ]
          },
          "metadata": {},
          "execution_count": 52
        }
      ]
    },
    {
      "cell_type": "markdown",
      "source": [
        "Evaluation"
      ],
      "metadata": {
        "id": "AdpzNoZKKx2J"
      }
    },
    {
      "cell_type": "code",
      "source": [
        "y_pred = classifier.predict(X_test)"
      ],
      "metadata": {
        "id": "O3hLmS7KQZkb"
      },
      "execution_count": null,
      "outputs": []
    },
    {
      "cell_type": "code",
      "source": [
        "accuracy = accuracy_score(y_test, y_pred)\n",
        "print(f\"Accuracy: {accuracy * 100:.2f}%\")"
      ],
      "metadata": {
        "colab": {
          "base_uri": "https://localhost:8080/"
        },
        "id": "E_8x-CvTQoov",
        "outputId": "0f738b68-e1ae-4670-cbfb-5f4ee36a10c5"
      },
      "execution_count": null,
      "outputs": [
        {
          "output_type": "stream",
          "name": "stdout",
          "text": [
            "Accuracy: 81.82%\n"
          ]
        }
      ]
    },
    {
      "cell_type": "code",
      "source": [
        "precision = precision_score(y_test, y_pred,average = \"weighted\")\n",
        "print(f\"Precision: {precision:.2f}\")"
      ],
      "metadata": {
        "colab": {
          "base_uri": "https://localhost:8080/"
        },
        "id": "YmdmMn-LbcO8",
        "outputId": "6dcac01d-0fdf-486e-9f5f-e03f660fdd19"
      },
      "execution_count": null,
      "outputs": [
        {
          "output_type": "stream",
          "name": "stdout",
          "text": [
            "Precision: 0.83\n"
          ]
        }
      ]
    },
    {
      "cell_type": "code",
      "source": [
        "recall = recall_score(y_test, y_pred,average = \"weighted\")\n",
        "print(f\"Recall: {recall:.2f}\")"
      ],
      "metadata": {
        "colab": {
          "base_uri": "https://localhost:8080/"
        },
        "id": "rhQOpTH-bc-7",
        "outputId": "f8420edd-c725-452a-8c4a-a39da681ff94"
      },
      "execution_count": null,
      "outputs": [
        {
          "output_type": "stream",
          "name": "stdout",
          "text": [
            "Recall: 0.82\n"
          ]
        }
      ]
    },
    {
      "cell_type": "code",
      "source": [
        "f1score = f1_score(y_test, y_pred,average = \"weighted\")\n",
        "print(f\"F1_score: {f1score:.2f}\")"
      ],
      "metadata": {
        "colab": {
          "base_uri": "https://localhost:8080/"
        },
        "id": "Q58RXoJgb9_9",
        "outputId": "4be1936c-1e54-49a6-df8d-eff4f32c5d12"
      },
      "execution_count": null,
      "outputs": [
        {
          "output_type": "stream",
          "name": "stdout",
          "text": [
            "F1_score: 0.81\n"
          ]
        }
      ]
    },
    {
      "cell_type": "code",
      "source": [
        "print(classification_report(y_test, y_pred))"
      ],
      "metadata": {
        "colab": {
          "base_uri": "https://localhost:8080/"
        },
        "id": "mSwhW-ibcPXx",
        "outputId": "f2cded9e-ec8b-438b-e19a-0b6918c33eec"
      },
      "execution_count": null,
      "outputs": [
        {
          "output_type": "stream",
          "name": "stdout",
          "text": [
            "                  precision    recall  f1-score   support\n",
            "\n",
            " air_conditioner       0.74      1.00      0.85        14\n",
            "        car_horn       1.00      0.71      0.83         7\n",
            "children_playing       1.00      1.00      1.00         2\n",
            "        dog_bark       0.80      0.67      0.73         6\n",
            "        drilling       0.90      0.82      0.86        11\n",
            "   engine_idling       0.75      0.38      0.50         8\n",
            "        gun_shot       0.75      0.75      0.75         4\n",
            "      jackhammer       0.92      0.85      0.88        13\n",
            "           siren       0.77      0.83      0.80        12\n",
            "    street_music       0.79      1.00      0.88        11\n",
            "\n",
            "        accuracy                           0.82        88\n",
            "       macro avg       0.84      0.80      0.81        88\n",
            "    weighted avg       0.83      0.82      0.81        88\n",
            "\n"
          ]
        }
      ]
    },
    {
      "cell_type": "markdown",
      "source": [],
      "metadata": {
        "id": "tcmSo5eidaGb"
      }
    },
    {
      "cell_type": "markdown",
      "source": [
        "# **Fine Tuning**"
      ],
      "metadata": {
        "id": "gn6Q3RMUdaD8"
      }
    },
    {
      "cell_type": "markdown",
      "source": [
        "Pre-processing"
      ],
      "metadata": {
        "id": "5fh00g7sK5EK"
      }
    },
    {
      "cell_type": "code",
      "source": [
        "def spec_image(x):\n",
        "  mean = x.mean()\n",
        "  std = x.std()\n",
        "  x_norm = (x-mean)/(std+1e-6)\n",
        "  x_min,x_max = x_norm.min(),x_norm.max()\n",
        "  x_scaled = 255*(x_norm-x_min)/(x_max-x_min)\n",
        "  x_scaled = x_scaled.astype(np.uint8)\n",
        "  return x_scaled"
      ],
      "metadata": {
        "id": "cpQbwQVXdZPC"
      },
      "execution_count": null,
      "outputs": []
    },
    {
      "cell_type": "code",
      "source": [
        "def pre_process(path,new_sr,max_ms):\n",
        "  signal, sr = librosa.load(path,sr=new_sr)\n",
        "\n",
        "  # print(signal)\n",
        "  # print(sr)\n",
        "  # if(signal.shape[0]==1):\n",
        "    # signal = torch.cat([signal,signal])\n",
        "\n",
        "  # new_sr = 48000\n",
        "  # re_signal1 = T.Resample(sr,new_sr)(signal[:1,:])\n",
        "  # re_signal2 = T.Resample(sr,new_sr)(signal[1:,:])\n",
        "  # re_signal1 = torch.cat([re_signal1,re_signal2])\n",
        "\n",
        "\n",
        "  max_len = new_sr//1000 * max_ms\n",
        "  # print(max_len,re_signal1.shape[1])\n",
        "\n",
        "  if(signal.shape[0]<max_len):\n",
        "    signal = np.pad(signal,int(np.ceil((max_len-signal.shape[0])/2)),mode='reflect')\n",
        "  else:\n",
        "    signal = signal[:max_len]\n",
        "\n",
        "  spectrogram = librosa.feature.melspectrogram(y=signal,sr=sr,n_fft=1024,hop_length=None,n_mels=64)\n",
        "  spec_db = librosa.power_to_db(spectrogram,top_db=80)\n",
        "  spec_imaged = spec_image(spec_db)\n",
        "\n",
        "  return spec_imaged[np.newaxis,...]"
      ],
      "metadata": {
        "id": "--xRyeSIdZMR"
      },
      "execution_count": null,
      "outputs": []
    },
    {
      "cell_type": "code",
      "source": [
        "class Sound_ds(Dataset):\n",
        "  def __init__(self,df):\n",
        "    self.df = df\n",
        "\n",
        "  def __len__(self):\n",
        "    return len(self.df)\n",
        "\n",
        "  def __getitem__(self, inx):\n",
        "    path = self.df.iloc[inx]['path']\n",
        "    class_id = self.df.iloc[inx]['classID']\n",
        "    spectrogram = pre_process(path,44100,4000)\n",
        "\n",
        "    return spectrogram,class_id"
      ],
      "metadata": {
        "id": "O_tB-hZrdZJt"
      },
      "execution_count": null,
      "outputs": []
    },
    {
      "cell_type": "code",
      "source": [
        "train_df,test_df = train_test_split(df,test_size=0.2,random_state=15)\n",
        "train_df,val_df = train_test_split(train_df,test_size=0.1,random_state=15)"
      ],
      "metadata": {
        "id": "zFGoGHDwdZF1"
      },
      "execution_count": null,
      "outputs": []
    },
    {
      "cell_type": "code",
      "source": [
        "train_dataset = Sound_ds(train_df)\n",
        "val_dataset = Sound_ds(val_df)\n",
        "test_dataset = Sound_ds(test_df)"
      ],
      "metadata": {
        "id": "weaLm_q6dZDi"
      },
      "execution_count": null,
      "outputs": []
    },
    {
      "cell_type": "code",
      "source": [
        "batch_size = 16\n",
        "train_loader = DataLoader(train_dataset,batch_size=batch_size,shuffle=True)\n",
        "val_loader = DataLoader(val_dataset,batch_size=batch_size,shuffle=False)\n",
        "test_loader = DataLoader(test_dataset,batch_size=batch_size,shuffle=False)"
      ],
      "metadata": {
        "id": "hNpoj200dZAu"
      },
      "execution_count": null,
      "outputs": []
    },
    {
      "cell_type": "markdown",
      "source": [
        "ResNet50 Model"
      ],
      "metadata": {
        "id": "DO1-ts-DKEhI"
      }
    },
    {
      "cell_type": "code",
      "source": [
        "import torchvision.models as models\n",
        "\n",
        "resnet_model = models.resnet50(pretrained=True)\n",
        "resnet_model.fc = torch.nn.Linear(resnet_model.fc.in_features,10)\n",
        "resnet_model.conv1 = nn.Conv2d(1, 64, kernel_size=(7, 7), stride=(2, 2), padding=(3, 3), bias=False)\n",
        "resnet_model.to(device)"
      ],
      "metadata": {
        "colab": {
          "base_uri": "https://localhost:8080/"
        },
        "id": "e3ozqZ1fdY-i",
        "outputId": "c181fe41-5a3a-44f9-9c1c-4b379d0a5b5e"
      },
      "execution_count": null,
      "outputs": [
        {
          "output_type": "stream",
          "name": "stderr",
          "text": [
            "/usr/local/lib/python3.10/dist-packages/torchvision/models/_utils.py:208: UserWarning: The parameter 'pretrained' is deprecated since 0.13 and may be removed in the future, please use 'weights' instead.\n",
            "  warnings.warn(\n",
            "/usr/local/lib/python3.10/dist-packages/torchvision/models/_utils.py:223: UserWarning: Arguments other than a weight enum or `None` for 'weights' are deprecated since 0.13 and may be removed in the future. The current behavior is equivalent to passing `weights=ResNet50_Weights.IMAGENET1K_V1`. You can also use `weights=ResNet50_Weights.DEFAULT` to get the most up-to-date weights.\n",
            "  warnings.warn(msg)\n",
            "Downloading: \"https://download.pytorch.org/models/resnet50-0676ba61.pth\" to /root/.cache/torch/hub/checkpoints/resnet50-0676ba61.pth\n",
            "100%|██████████| 97.8M/97.8M [00:01<00:00, 67.3MB/s]\n"
          ]
        },
        {
          "output_type": "execute_result",
          "data": {
            "text/plain": [
              "ResNet(\n",
              "  (conv1): Conv2d(1, 64, kernel_size=(7, 7), stride=(2, 2), padding=(3, 3), bias=False)\n",
              "  (bn1): BatchNorm2d(64, eps=1e-05, momentum=0.1, affine=True, track_running_stats=True)\n",
              "  (relu): ReLU(inplace=True)\n",
              "  (maxpool): MaxPool2d(kernel_size=3, stride=2, padding=1, dilation=1, ceil_mode=False)\n",
              "  (layer1): Sequential(\n",
              "    (0): Bottleneck(\n",
              "      (conv1): Conv2d(64, 64, kernel_size=(1, 1), stride=(1, 1), bias=False)\n",
              "      (bn1): BatchNorm2d(64, eps=1e-05, momentum=0.1, affine=True, track_running_stats=True)\n",
              "      (conv2): Conv2d(64, 64, kernel_size=(3, 3), stride=(1, 1), padding=(1, 1), bias=False)\n",
              "      (bn2): BatchNorm2d(64, eps=1e-05, momentum=0.1, affine=True, track_running_stats=True)\n",
              "      (conv3): Conv2d(64, 256, kernel_size=(1, 1), stride=(1, 1), bias=False)\n",
              "      (bn3): BatchNorm2d(256, eps=1e-05, momentum=0.1, affine=True, track_running_stats=True)\n",
              "      (relu): ReLU(inplace=True)\n",
              "      (downsample): Sequential(\n",
              "        (0): Conv2d(64, 256, kernel_size=(1, 1), stride=(1, 1), bias=False)\n",
              "        (1): BatchNorm2d(256, eps=1e-05, momentum=0.1, affine=True, track_running_stats=True)\n",
              "      )\n",
              "    )\n",
              "    (1): Bottleneck(\n",
              "      (conv1): Conv2d(256, 64, kernel_size=(1, 1), stride=(1, 1), bias=False)\n",
              "      (bn1): BatchNorm2d(64, eps=1e-05, momentum=0.1, affine=True, track_running_stats=True)\n",
              "      (conv2): Conv2d(64, 64, kernel_size=(3, 3), stride=(1, 1), padding=(1, 1), bias=False)\n",
              "      (bn2): BatchNorm2d(64, eps=1e-05, momentum=0.1, affine=True, track_running_stats=True)\n",
              "      (conv3): Conv2d(64, 256, kernel_size=(1, 1), stride=(1, 1), bias=False)\n",
              "      (bn3): BatchNorm2d(256, eps=1e-05, momentum=0.1, affine=True, track_running_stats=True)\n",
              "      (relu): ReLU(inplace=True)\n",
              "    )\n",
              "    (2): Bottleneck(\n",
              "      (conv1): Conv2d(256, 64, kernel_size=(1, 1), stride=(1, 1), bias=False)\n",
              "      (bn1): BatchNorm2d(64, eps=1e-05, momentum=0.1, affine=True, track_running_stats=True)\n",
              "      (conv2): Conv2d(64, 64, kernel_size=(3, 3), stride=(1, 1), padding=(1, 1), bias=False)\n",
              "      (bn2): BatchNorm2d(64, eps=1e-05, momentum=0.1, affine=True, track_running_stats=True)\n",
              "      (conv3): Conv2d(64, 256, kernel_size=(1, 1), stride=(1, 1), bias=False)\n",
              "      (bn3): BatchNorm2d(256, eps=1e-05, momentum=0.1, affine=True, track_running_stats=True)\n",
              "      (relu): ReLU(inplace=True)\n",
              "    )\n",
              "  )\n",
              "  (layer2): Sequential(\n",
              "    (0): Bottleneck(\n",
              "      (conv1): Conv2d(256, 128, kernel_size=(1, 1), stride=(1, 1), bias=False)\n",
              "      (bn1): BatchNorm2d(128, eps=1e-05, momentum=0.1, affine=True, track_running_stats=True)\n",
              "      (conv2): Conv2d(128, 128, kernel_size=(3, 3), stride=(2, 2), padding=(1, 1), bias=False)\n",
              "      (bn2): BatchNorm2d(128, eps=1e-05, momentum=0.1, affine=True, track_running_stats=True)\n",
              "      (conv3): Conv2d(128, 512, kernel_size=(1, 1), stride=(1, 1), bias=False)\n",
              "      (bn3): BatchNorm2d(512, eps=1e-05, momentum=0.1, affine=True, track_running_stats=True)\n",
              "      (relu): ReLU(inplace=True)\n",
              "      (downsample): Sequential(\n",
              "        (0): Conv2d(256, 512, kernel_size=(1, 1), stride=(2, 2), bias=False)\n",
              "        (1): BatchNorm2d(512, eps=1e-05, momentum=0.1, affine=True, track_running_stats=True)\n",
              "      )\n",
              "    )\n",
              "    (1): Bottleneck(\n",
              "      (conv1): Conv2d(512, 128, kernel_size=(1, 1), stride=(1, 1), bias=False)\n",
              "      (bn1): BatchNorm2d(128, eps=1e-05, momentum=0.1, affine=True, track_running_stats=True)\n",
              "      (conv2): Conv2d(128, 128, kernel_size=(3, 3), stride=(1, 1), padding=(1, 1), bias=False)\n",
              "      (bn2): BatchNorm2d(128, eps=1e-05, momentum=0.1, affine=True, track_running_stats=True)\n",
              "      (conv3): Conv2d(128, 512, kernel_size=(1, 1), stride=(1, 1), bias=False)\n",
              "      (bn3): BatchNorm2d(512, eps=1e-05, momentum=0.1, affine=True, track_running_stats=True)\n",
              "      (relu): ReLU(inplace=True)\n",
              "    )\n",
              "    (2): Bottleneck(\n",
              "      (conv1): Conv2d(512, 128, kernel_size=(1, 1), stride=(1, 1), bias=False)\n",
              "      (bn1): BatchNorm2d(128, eps=1e-05, momentum=0.1, affine=True, track_running_stats=True)\n",
              "      (conv2): Conv2d(128, 128, kernel_size=(3, 3), stride=(1, 1), padding=(1, 1), bias=False)\n",
              "      (bn2): BatchNorm2d(128, eps=1e-05, momentum=0.1, affine=True, track_running_stats=True)\n",
              "      (conv3): Conv2d(128, 512, kernel_size=(1, 1), stride=(1, 1), bias=False)\n",
              "      (bn3): BatchNorm2d(512, eps=1e-05, momentum=0.1, affine=True, track_running_stats=True)\n",
              "      (relu): ReLU(inplace=True)\n",
              "    )\n",
              "    (3): Bottleneck(\n",
              "      (conv1): Conv2d(512, 128, kernel_size=(1, 1), stride=(1, 1), bias=False)\n",
              "      (bn1): BatchNorm2d(128, eps=1e-05, momentum=0.1, affine=True, track_running_stats=True)\n",
              "      (conv2): Conv2d(128, 128, kernel_size=(3, 3), stride=(1, 1), padding=(1, 1), bias=False)\n",
              "      (bn2): BatchNorm2d(128, eps=1e-05, momentum=0.1, affine=True, track_running_stats=True)\n",
              "      (conv3): Conv2d(128, 512, kernel_size=(1, 1), stride=(1, 1), bias=False)\n",
              "      (bn3): BatchNorm2d(512, eps=1e-05, momentum=0.1, affine=True, track_running_stats=True)\n",
              "      (relu): ReLU(inplace=True)\n",
              "    )\n",
              "  )\n",
              "  (layer3): Sequential(\n",
              "    (0): Bottleneck(\n",
              "      (conv1): Conv2d(512, 256, kernel_size=(1, 1), stride=(1, 1), bias=False)\n",
              "      (bn1): BatchNorm2d(256, eps=1e-05, momentum=0.1, affine=True, track_running_stats=True)\n",
              "      (conv2): Conv2d(256, 256, kernel_size=(3, 3), stride=(2, 2), padding=(1, 1), bias=False)\n",
              "      (bn2): BatchNorm2d(256, eps=1e-05, momentum=0.1, affine=True, track_running_stats=True)\n",
              "      (conv3): Conv2d(256, 1024, kernel_size=(1, 1), stride=(1, 1), bias=False)\n",
              "      (bn3): BatchNorm2d(1024, eps=1e-05, momentum=0.1, affine=True, track_running_stats=True)\n",
              "      (relu): ReLU(inplace=True)\n",
              "      (downsample): Sequential(\n",
              "        (0): Conv2d(512, 1024, kernel_size=(1, 1), stride=(2, 2), bias=False)\n",
              "        (1): BatchNorm2d(1024, eps=1e-05, momentum=0.1, affine=True, track_running_stats=True)\n",
              "      )\n",
              "    )\n",
              "    (1): Bottleneck(\n",
              "      (conv1): Conv2d(1024, 256, kernel_size=(1, 1), stride=(1, 1), bias=False)\n",
              "      (bn1): BatchNorm2d(256, eps=1e-05, momentum=0.1, affine=True, track_running_stats=True)\n",
              "      (conv2): Conv2d(256, 256, kernel_size=(3, 3), stride=(1, 1), padding=(1, 1), bias=False)\n",
              "      (bn2): BatchNorm2d(256, eps=1e-05, momentum=0.1, affine=True, track_running_stats=True)\n",
              "      (conv3): Conv2d(256, 1024, kernel_size=(1, 1), stride=(1, 1), bias=False)\n",
              "      (bn3): BatchNorm2d(1024, eps=1e-05, momentum=0.1, affine=True, track_running_stats=True)\n",
              "      (relu): ReLU(inplace=True)\n",
              "    )\n",
              "    (2): Bottleneck(\n",
              "      (conv1): Conv2d(1024, 256, kernel_size=(1, 1), stride=(1, 1), bias=False)\n",
              "      (bn1): BatchNorm2d(256, eps=1e-05, momentum=0.1, affine=True, track_running_stats=True)\n",
              "      (conv2): Conv2d(256, 256, kernel_size=(3, 3), stride=(1, 1), padding=(1, 1), bias=False)\n",
              "      (bn2): BatchNorm2d(256, eps=1e-05, momentum=0.1, affine=True, track_running_stats=True)\n",
              "      (conv3): Conv2d(256, 1024, kernel_size=(1, 1), stride=(1, 1), bias=False)\n",
              "      (bn3): BatchNorm2d(1024, eps=1e-05, momentum=0.1, affine=True, track_running_stats=True)\n",
              "      (relu): ReLU(inplace=True)\n",
              "    )\n",
              "    (3): Bottleneck(\n",
              "      (conv1): Conv2d(1024, 256, kernel_size=(1, 1), stride=(1, 1), bias=False)\n",
              "      (bn1): BatchNorm2d(256, eps=1e-05, momentum=0.1, affine=True, track_running_stats=True)\n",
              "      (conv2): Conv2d(256, 256, kernel_size=(3, 3), stride=(1, 1), padding=(1, 1), bias=False)\n",
              "      (bn2): BatchNorm2d(256, eps=1e-05, momentum=0.1, affine=True, track_running_stats=True)\n",
              "      (conv3): Conv2d(256, 1024, kernel_size=(1, 1), stride=(1, 1), bias=False)\n",
              "      (bn3): BatchNorm2d(1024, eps=1e-05, momentum=0.1, affine=True, track_running_stats=True)\n",
              "      (relu): ReLU(inplace=True)\n",
              "    )\n",
              "    (4): Bottleneck(\n",
              "      (conv1): Conv2d(1024, 256, kernel_size=(1, 1), stride=(1, 1), bias=False)\n",
              "      (bn1): BatchNorm2d(256, eps=1e-05, momentum=0.1, affine=True, track_running_stats=True)\n",
              "      (conv2): Conv2d(256, 256, kernel_size=(3, 3), stride=(1, 1), padding=(1, 1), bias=False)\n",
              "      (bn2): BatchNorm2d(256, eps=1e-05, momentum=0.1, affine=True, track_running_stats=True)\n",
              "      (conv3): Conv2d(256, 1024, kernel_size=(1, 1), stride=(1, 1), bias=False)\n",
              "      (bn3): BatchNorm2d(1024, eps=1e-05, momentum=0.1, affine=True, track_running_stats=True)\n",
              "      (relu): ReLU(inplace=True)\n",
              "    )\n",
              "    (5): Bottleneck(\n",
              "      (conv1): Conv2d(1024, 256, kernel_size=(1, 1), stride=(1, 1), bias=False)\n",
              "      (bn1): BatchNorm2d(256, eps=1e-05, momentum=0.1, affine=True, track_running_stats=True)\n",
              "      (conv2): Conv2d(256, 256, kernel_size=(3, 3), stride=(1, 1), padding=(1, 1), bias=False)\n",
              "      (bn2): BatchNorm2d(256, eps=1e-05, momentum=0.1, affine=True, track_running_stats=True)\n",
              "      (conv3): Conv2d(256, 1024, kernel_size=(1, 1), stride=(1, 1), bias=False)\n",
              "      (bn3): BatchNorm2d(1024, eps=1e-05, momentum=0.1, affine=True, track_running_stats=True)\n",
              "      (relu): ReLU(inplace=True)\n",
              "    )\n",
              "  )\n",
              "  (layer4): Sequential(\n",
              "    (0): Bottleneck(\n",
              "      (conv1): Conv2d(1024, 512, kernel_size=(1, 1), stride=(1, 1), bias=False)\n",
              "      (bn1): BatchNorm2d(512, eps=1e-05, momentum=0.1, affine=True, track_running_stats=True)\n",
              "      (conv2): Conv2d(512, 512, kernel_size=(3, 3), stride=(2, 2), padding=(1, 1), bias=False)\n",
              "      (bn2): BatchNorm2d(512, eps=1e-05, momentum=0.1, affine=True, track_running_stats=True)\n",
              "      (conv3): Conv2d(512, 2048, kernel_size=(1, 1), stride=(1, 1), bias=False)\n",
              "      (bn3): BatchNorm2d(2048, eps=1e-05, momentum=0.1, affine=True, track_running_stats=True)\n",
              "      (relu): ReLU(inplace=True)\n",
              "      (downsample): Sequential(\n",
              "        (0): Conv2d(1024, 2048, kernel_size=(1, 1), stride=(2, 2), bias=False)\n",
              "        (1): BatchNorm2d(2048, eps=1e-05, momentum=0.1, affine=True, track_running_stats=True)\n",
              "      )\n",
              "    )\n",
              "    (1): Bottleneck(\n",
              "      (conv1): Conv2d(2048, 512, kernel_size=(1, 1), stride=(1, 1), bias=False)\n",
              "      (bn1): BatchNorm2d(512, eps=1e-05, momentum=0.1, affine=True, track_running_stats=True)\n",
              "      (conv2): Conv2d(512, 512, kernel_size=(3, 3), stride=(1, 1), padding=(1, 1), bias=False)\n",
              "      (bn2): BatchNorm2d(512, eps=1e-05, momentum=0.1, affine=True, track_running_stats=True)\n",
              "      (conv3): Conv2d(512, 2048, kernel_size=(1, 1), stride=(1, 1), bias=False)\n",
              "      (bn3): BatchNorm2d(2048, eps=1e-05, momentum=0.1, affine=True, track_running_stats=True)\n",
              "      (relu): ReLU(inplace=True)\n",
              "    )\n",
              "    (2): Bottleneck(\n",
              "      (conv1): Conv2d(2048, 512, kernel_size=(1, 1), stride=(1, 1), bias=False)\n",
              "      (bn1): BatchNorm2d(512, eps=1e-05, momentum=0.1, affine=True, track_running_stats=True)\n",
              "      (conv2): Conv2d(512, 512, kernel_size=(3, 3), stride=(1, 1), padding=(1, 1), bias=False)\n",
              "      (bn2): BatchNorm2d(512, eps=1e-05, momentum=0.1, affine=True, track_running_stats=True)\n",
              "      (conv3): Conv2d(512, 2048, kernel_size=(1, 1), stride=(1, 1), bias=False)\n",
              "      (bn3): BatchNorm2d(2048, eps=1e-05, momentum=0.1, affine=True, track_running_stats=True)\n",
              "      (relu): ReLU(inplace=True)\n",
              "    )\n",
              "  )\n",
              "  (avgpool): AdaptiveAvgPool2d(output_size=(1, 1))\n",
              "  (fc): Linear(in_features=2048, out_features=10, bias=True)\n",
              ")"
            ]
          },
          "metadata": {},
          "execution_count": 126
        }
      ]
    },
    {
      "cell_type": "code",
      "source": [
        "lr = 2e-4\n",
        "optimizer = optim.Adam(resnet_model.parameters(),lr=lr)\n",
        "epochs = 50\n",
        "loss_f = nn.CrossEntropyLoss()"
      ],
      "metadata": {
        "id": "KUjHCXyfQ4Fe"
      },
      "execution_count": null,
      "outputs": []
    },
    {
      "cell_type": "code",
      "source": [],
      "metadata": {
        "id": "_UmOBAomLBjF"
      },
      "execution_count": null,
      "outputs": []
    },
    {
      "cell_type": "markdown",
      "source": [
        "Training"
      ],
      "metadata": {
        "id": "43nYDg8qK-vS"
      }
    },
    {
      "cell_type": "code",
      "source": [
        "train_loss = []\n",
        "vali_loss = []\n",
        "\n",
        "def train(model,loss_f,train_loader,val_loader,optimizer,train_loss,val_loss):\n",
        "  for epoch in range(10):\n",
        "    model.train()\n",
        "    batch_losses = []\n",
        "    for i,data in enumerate(train_loader):\n",
        "      optimizer.zero_grad()\n",
        "      x,y=data[0].to(device,dtype=torch.float32),data[1].to(device)\n",
        "\n",
        "      y_pred = model(x)\n",
        "      loss = loss_f(y_pred,y)\n",
        "      loss.backward()\n",
        "      batch_losses.append(loss.item())\n",
        "      optimizer.step()\n",
        "\n",
        "    train_loss.append(batch_losses)\n",
        "    print(f'Epoch - {epoch} Train-Loss : {np.mean(train_loss[-1])}')\n",
        "\n",
        "    model.eval()\n",
        "\n",
        "    val_batch_losses = []\n",
        "\n",
        "    with torch.no_grad():\n",
        "      for i,data in enumerate(val_loader):\n",
        "        x,y=data[0].to(device,dtype=torch.float32),data[1].to(device)\n",
        "        y_pred = model(x)\n",
        "        val_loss = loss_f(y_pred,y)\n",
        "        val_batch_losses.append(val_loss.item())\n",
        "\n",
        "    vali_loss.append(val_batch_losses)\n",
        "    print(f'Epoch - {epoch} Validation-Loss : {np.mean(vali_loss[-1])}')\n",
        "\n",
        "\n"
      ],
      "metadata": {
        "id": "nSRaogxXeCvt"
      },
      "execution_count": null,
      "outputs": []
    },
    {
      "cell_type": "code",
      "source": [
        "train(resnet_model,loss_f,train_loader,val_loader,optimizer,train_loss,vali_loss)"
      ],
      "metadata": {
        "colab": {
          "base_uri": "https://localhost:8080/"
        },
        "id": "wX4dPdC8eCti",
        "outputId": "7a02d185-5e89-4b23-9dcb-9bb690429b61"
      },
      "execution_count": null,
      "outputs": [
        {
          "output_type": "stream",
          "name": "stdout",
          "text": [
            "Epoch - 0 Train-Loss : 0.9289162204465793\n",
            "Epoch - 0 Validation-Loss : 0.6848569742657922\n",
            "Epoch - 1 Train-Loss : 0.4961916004655925\n",
            "Epoch - 1 Validation-Loss : 0.4256354915824803\n",
            "Epoch - 2 Train-Loss : 0.3568891938491405\n",
            "Epoch - 2 Validation-Loss : 0.3265262983570045\n",
            "Epoch - 3 Train-Loss : 0.2612209692289318\n",
            "Epoch - 3 Validation-Loss : 0.4936152378266508\n",
            "Epoch - 4 Train-Loss : 0.21343236342404256\n",
            "Epoch - 4 Validation-Loss : 0.6765704530883919\n",
            "Epoch - 5 Train-Loss : 0.17061075515945562\n",
            "Epoch - 5 Validation-Loss : 0.23573328098493881\n",
            "Epoch - 6 Train-Loss : 0.14364029314255214\n",
            "Epoch - 6 Validation-Loss : 0.39400295955552295\n",
            "Epoch - 7 Train-Loss : 0.13471476723168652\n",
            "Epoch - 7 Validation-Loss : 0.2495168896857649\n",
            "Epoch - 8 Train-Loss : 0.12936198081004815\n",
            "Epoch - 8 Validation-Loss : 0.24412437513555316\n",
            "Epoch - 9 Train-Loss : 0.10663614732286782\n",
            "Epoch - 9 Validation-Loss : 0.38381535752507095\n"
          ]
        }
      ]
    },
    {
      "cell_type": "markdown",
      "source": [
        "Evaluating"
      ],
      "metadata": {
        "id": "va8h8kO6LDFE"
      }
    },
    {
      "cell_type": "code",
      "source": [
        "resnet_model.eval()\n",
        "\n",
        "predictions = []\n",
        "true_labels = []\n",
        "correct_pred = 0\n",
        "total_pred = 0\n",
        "with torch.no_grad():\n",
        "  for i,data in enumerate(test_loader):\n",
        "    if(i%100==0):\n",
        "      print(i)\n",
        "    x,y=data[0].to(device,dtype=torch.float32),data[1].to(device)\n",
        "    # print(x.shape)\n",
        "    # print(y.shape)\n",
        "\n",
        "\n",
        "    outputs = resnet_model(x)\n",
        "    _,y_pred = torch.max(outputs,1)\n",
        "    # print(y_pred,y)\n",
        "    predictions.extend(y_pred.cpu().numpy())\n",
        "    true_labels.extend(y.cpu().numpy())\n",
        "    # correct_pred +=(y_pred==y).sum().item()\n",
        "    # total_pred += y_pred.shape[0]\n",
        "\n"
      ],
      "metadata": {
        "colab": {
          "base_uri": "https://localhost:8080/"
        },
        "id": "jQE5vB71eCp8",
        "outputId": "ff6500c4-87b5-49ab-f531-740eb83df7b3"
      },
      "execution_count": null,
      "outputs": [
        {
          "output_type": "stream",
          "name": "stdout",
          "text": [
            "0\n",
            "100\n"
          ]
        }
      ]
    },
    {
      "cell_type": "code",
      "source": [
        "accuracy = accuracy_score(predictions,true_labels)\n",
        "print(f\"Accuracy: {accuracy*100:.2f}%\")"
      ],
      "metadata": {
        "colab": {
          "base_uri": "https://localhost:8080/"
        },
        "id": "daghY5B4eCnZ",
        "outputId": "2fe440ed-b018-4f6e-9fed-801d69696084"
      },
      "execution_count": null,
      "outputs": [
        {
          "output_type": "stream",
          "name": "stdout",
          "text": [
            "Accuracy: 90.44%\n"
          ]
        }
      ]
    },
    {
      "cell_type": "code",
      "source": [
        "precision = precision_score(predictions,true_labels,average = \"weighted\")\n",
        "print(f\"Precision: {precision:.2f}\")"
      ],
      "metadata": {
        "colab": {
          "base_uri": "https://localhost:8080/"
        },
        "id": "-JbQn6qVeCkB",
        "outputId": "fdfd6b5f-5d18-4939-c7b3-b51dfc8f54b4"
      },
      "execution_count": null,
      "outputs": [
        {
          "output_type": "stream",
          "name": "stdout",
          "text": [
            "Precision: 0.92\n"
          ]
        }
      ]
    },
    {
      "cell_type": "code",
      "source": [
        "recall = recall_score(predictions,true_labels,average = \"weighted\")\n",
        "print(f\"Recall: {recall:.2f}\")"
      ],
      "metadata": {
        "colab": {
          "base_uri": "https://localhost:8080/"
        },
        "id": "kRCauQKjm_wI",
        "outputId": "6cb7f687-aac1-4081-e35b-82d36c60244a"
      },
      "execution_count": null,
      "outputs": [
        {
          "output_type": "stream",
          "name": "stdout",
          "text": [
            "Recall: 0.90\n"
          ]
        }
      ]
    },
    {
      "cell_type": "code",
      "source": [
        "f1score = f1_score(predictions,true_labels,average = \"weighted\")\n",
        "print(f\"F1_score: {f1score:.2f}\")"
      ],
      "metadata": {
        "colab": {
          "base_uri": "https://localhost:8080/"
        },
        "id": "nZScDaL6lHiu",
        "outputId": "16d55b42-a7b1-450d-d34e-61830d424cd4"
      },
      "execution_count": null,
      "outputs": [
        {
          "output_type": "stream",
          "name": "stdout",
          "text": [
            "F1_score: 0.91\n"
          ]
        }
      ]
    },
    {
      "cell_type": "code",
      "source": [
        "print(classification_report(predictions,true_labels,target_names=sorted(classes)))"
      ],
      "metadata": {
        "colab": {
          "base_uri": "https://localhost:8080/"
        },
        "id": "JWMJL60tlHfq",
        "outputId": "8d944692-6ae7-4245-daf4-1ca6356be9bd"
      },
      "execution_count": null,
      "outputs": [
        {
          "output_type": "stream",
          "name": "stdout",
          "text": [
            "                  precision    recall  f1-score   support\n",
            "\n",
            " air_conditioner       0.96      0.88      0.92       219\n",
            "        car_horn       0.88      0.95      0.91        83\n",
            "children_playing       0.94      0.73      0.82       250\n",
            "        dog_bark       0.91      0.96      0.94       177\n",
            "        drilling       0.94      0.98      0.96       199\n",
            "   engine_idling       0.95      0.96      0.95       201\n",
            "        gun_shot       0.96      1.00      0.98        72\n",
            "      jackhammer       0.99      0.85      0.92       218\n",
            "           siren       0.98      0.94      0.96       205\n",
            "    street_music       0.56      0.96      0.71       123\n",
            "\n",
            "        accuracy                           0.90      1747\n",
            "       macro avg       0.91      0.92      0.91      1747\n",
            "    weighted avg       0.92      0.90      0.91      1747\n",
            "\n"
          ]
        }
      ]
    },
    {
      "cell_type": "markdown",
      "source": [],
      "metadata": {
        "id": "h83Do63Ayiva"
      }
    },
    {
      "cell_type": "markdown",
      "source": [
        "Whisper Model"
      ],
      "metadata": {
        "id": "yFn1068iyicz"
      }
    },
    {
      "cell_type": "code",
      "source": [
        "!pip install datasets"
      ],
      "metadata": {
        "colab": {
          "base_uri": "https://localhost:8080/"
        },
        "id": "ug7EqSKDs-xQ",
        "outputId": "d49e6d9d-4079-4f54-e85c-dd8e9bfd8ab9"
      },
      "execution_count": null,
      "outputs": [
        {
          "output_type": "stream",
          "name": "stdout",
          "text": [
            "Requirement already satisfied: datasets in /usr/local/lib/python3.10/dist-packages (2.16.1)\n",
            "Requirement already satisfied: filelock in /usr/local/lib/python3.10/dist-packages (from datasets) (3.13.1)\n",
            "Requirement already satisfied: numpy>=1.17 in /usr/local/lib/python3.10/dist-packages (from datasets) (1.23.5)\n",
            "Requirement already satisfied: pyarrow>=8.0.0 in /usr/local/lib/python3.10/dist-packages (from datasets) (10.0.1)\n",
            "Requirement already satisfied: pyarrow-hotfix in /usr/local/lib/python3.10/dist-packages (from datasets) (0.6)\n",
            "Requirement already satisfied: dill<0.3.8,>=0.3.0 in /usr/local/lib/python3.10/dist-packages (from datasets) (0.3.7)\n",
            "Requirement already satisfied: pandas in /usr/local/lib/python3.10/dist-packages (from datasets) (1.5.3)\n",
            "Requirement already satisfied: requests>=2.19.0 in /usr/local/lib/python3.10/dist-packages (from datasets) (2.31.0)\n",
            "Requirement already satisfied: tqdm>=4.62.1 in /usr/local/lib/python3.10/dist-packages (from datasets) (4.66.1)\n",
            "Requirement already satisfied: xxhash in /usr/local/lib/python3.10/dist-packages (from datasets) (3.4.1)\n",
            "Requirement already satisfied: multiprocess in /usr/local/lib/python3.10/dist-packages (from datasets) (0.70.15)\n",
            "Requirement already satisfied: fsspec[http]<=2023.10.0,>=2023.1.0 in /usr/local/lib/python3.10/dist-packages (from datasets) (2023.6.0)\n",
            "Requirement already satisfied: aiohttp in /usr/local/lib/python3.10/dist-packages (from datasets) (3.9.1)\n",
            "Requirement already satisfied: huggingface-hub>=0.19.4 in /usr/local/lib/python3.10/dist-packages (from datasets) (0.20.1)\n",
            "Requirement already satisfied: packaging in /usr/local/lib/python3.10/dist-packages (from datasets) (23.2)\n",
            "Requirement already satisfied: pyyaml>=5.1 in /usr/local/lib/python3.10/dist-packages (from datasets) (6.0.1)\n",
            "Requirement already satisfied: attrs>=17.3.0 in /usr/local/lib/python3.10/dist-packages (from aiohttp->datasets) (23.2.0)\n",
            "Requirement already satisfied: multidict<7.0,>=4.5 in /usr/local/lib/python3.10/dist-packages (from aiohttp->datasets) (6.0.4)\n",
            "Requirement already satisfied: yarl<2.0,>=1.0 in /usr/local/lib/python3.10/dist-packages (from aiohttp->datasets) (1.9.4)\n",
            "Requirement already satisfied: frozenlist>=1.1.1 in /usr/local/lib/python3.10/dist-packages (from aiohttp->datasets) (1.4.1)\n",
            "Requirement already satisfied: aiosignal>=1.1.2 in /usr/local/lib/python3.10/dist-packages (from aiohttp->datasets) (1.3.1)\n",
            "Requirement already satisfied: async-timeout<5.0,>=4.0 in /usr/local/lib/python3.10/dist-packages (from aiohttp->datasets) (4.0.3)\n",
            "Requirement already satisfied: typing-extensions>=3.7.4.3 in /usr/local/lib/python3.10/dist-packages (from huggingface-hub>=0.19.4->datasets) (4.5.0)\n",
            "Requirement already satisfied: charset-normalizer<4,>=2 in /usr/local/lib/python3.10/dist-packages (from requests>=2.19.0->datasets) (3.3.2)\n",
            "Requirement already satisfied: idna<4,>=2.5 in /usr/local/lib/python3.10/dist-packages (from requests>=2.19.0->datasets) (3.6)\n",
            "Requirement already satisfied: urllib3<3,>=1.21.1 in /usr/local/lib/python3.10/dist-packages (from requests>=2.19.0->datasets) (2.0.7)\n",
            "Requirement already satisfied: certifi>=2017.4.17 in /usr/local/lib/python3.10/dist-packages (from requests>=2.19.0->datasets) (2023.11.17)\n",
            "Requirement already satisfied: python-dateutil>=2.8.1 in /usr/local/lib/python3.10/dist-packages (from pandas->datasets) (2.8.2)\n",
            "Requirement already satisfied: pytz>=2020.1 in /usr/local/lib/python3.10/dist-packages (from pandas->datasets) (2023.3.post1)\n",
            "Requirement already satisfied: six>=1.5 in /usr/local/lib/python3.10/dist-packages (from python-dateutil>=2.8.1->pandas->datasets) (1.16.0)\n"
          ]
        }
      ]
    },
    {
      "cell_type": "code",
      "source": [
        "from transformers import WhisperModel,WhisperFeatureExtractor,AdamW\n",
        "import datasets\n",
        "from datasets import load_dataset, DatasetDict,  Audio"
      ],
      "metadata": {
        "id": "_CS4mxaXsE1P"
      },
      "execution_count": null,
      "outputs": []
    },
    {
      "cell_type": "code",
      "source": [
        "df1 = df.sample(n=1500, random_state=15)\n",
        "df1.head()"
      ],
      "metadata": {
        "colab": {
          "base_uri": "https://localhost:8080/",
          "height": 206
        },
        "id": "ZOTQOcAh7qzE",
        "outputId": "599198f2-f850-4a1b-fbb7-8414e93b963f"
      },
      "execution_count": null,
      "outputs": [
        {
          "output_type": "execute_result",
          "data": {
            "text/plain": [
              "                                                   path  classID  \\\n",
              "8443  /content/UrbanSound8K/audio/fold10/93567-8-0-1...        8   \n",
              "1705  /content/UrbanSound8K/audio/fold4/144007-5-1-3...        5   \n",
              "3689  /content/UrbanSound8K/audio/fold5/17578-5-0-32...        5   \n",
              "4413  /content/UrbanSound8K/audio/fold10/181624-4-8-...        4   \n",
              "3597  /content/UrbanSound8K/audio/fold7/174284-6-2-0...        6   \n",
              "\n",
              "              class  \n",
              "8443          siren  \n",
              "1705  engine_idling  \n",
              "3689  engine_idling  \n",
              "4413       drilling  \n",
              "3597       gun_shot  "
            ],
            "text/html": [
              "\n",
              "  <div id=\"df-d6c6ffbf-4f1d-411e-aa05-4932aeef0963\" class=\"colab-df-container\">\n",
              "    <div>\n",
              "<style scoped>\n",
              "    .dataframe tbody tr th:only-of-type {\n",
              "        vertical-align: middle;\n",
              "    }\n",
              "\n",
              "    .dataframe tbody tr th {\n",
              "        vertical-align: top;\n",
              "    }\n",
              "\n",
              "    .dataframe thead th {\n",
              "        text-align: right;\n",
              "    }\n",
              "</style>\n",
              "<table border=\"1\" class=\"dataframe\">\n",
              "  <thead>\n",
              "    <tr style=\"text-align: right;\">\n",
              "      <th></th>\n",
              "      <th>path</th>\n",
              "      <th>classID</th>\n",
              "      <th>class</th>\n",
              "    </tr>\n",
              "  </thead>\n",
              "  <tbody>\n",
              "    <tr>\n",
              "      <th>8443</th>\n",
              "      <td>/content/UrbanSound8K/audio/fold10/93567-8-0-1...</td>\n",
              "      <td>8</td>\n",
              "      <td>siren</td>\n",
              "    </tr>\n",
              "    <tr>\n",
              "      <th>1705</th>\n",
              "      <td>/content/UrbanSound8K/audio/fold4/144007-5-1-3...</td>\n",
              "      <td>5</td>\n",
              "      <td>engine_idling</td>\n",
              "    </tr>\n",
              "    <tr>\n",
              "      <th>3689</th>\n",
              "      <td>/content/UrbanSound8K/audio/fold5/17578-5-0-32...</td>\n",
              "      <td>5</td>\n",
              "      <td>engine_idling</td>\n",
              "    </tr>\n",
              "    <tr>\n",
              "      <th>4413</th>\n",
              "      <td>/content/UrbanSound8K/audio/fold10/181624-4-8-...</td>\n",
              "      <td>4</td>\n",
              "      <td>drilling</td>\n",
              "    </tr>\n",
              "    <tr>\n",
              "      <th>3597</th>\n",
              "      <td>/content/UrbanSound8K/audio/fold7/174284-6-2-0...</td>\n",
              "      <td>6</td>\n",
              "      <td>gun_shot</td>\n",
              "    </tr>\n",
              "  </tbody>\n",
              "</table>\n",
              "</div>\n",
              "    <div class=\"colab-df-buttons\">\n",
              "\n",
              "  <div class=\"colab-df-container\">\n",
              "    <button class=\"colab-df-convert\" onclick=\"convertToInteractive('df-d6c6ffbf-4f1d-411e-aa05-4932aeef0963')\"\n",
              "            title=\"Convert this dataframe to an interactive table.\"\n",
              "            style=\"display:none;\">\n",
              "\n",
              "  <svg xmlns=\"http://www.w3.org/2000/svg\" height=\"24px\" viewBox=\"0 -960 960 960\">\n",
              "    <path d=\"M120-120v-720h720v720H120Zm60-500h600v-160H180v160Zm220 220h160v-160H400v160Zm0 220h160v-160H400v160ZM180-400h160v-160H180v160Zm440 0h160v-160H620v160ZM180-180h160v-160H180v160Zm440 0h160v-160H620v160Z\"/>\n",
              "  </svg>\n",
              "    </button>\n",
              "\n",
              "  <style>\n",
              "    .colab-df-container {\n",
              "      display:flex;\n",
              "      gap: 12px;\n",
              "    }\n",
              "\n",
              "    .colab-df-convert {\n",
              "      background-color: #E8F0FE;\n",
              "      border: none;\n",
              "      border-radius: 50%;\n",
              "      cursor: pointer;\n",
              "      display: none;\n",
              "      fill: #1967D2;\n",
              "      height: 32px;\n",
              "      padding: 0 0 0 0;\n",
              "      width: 32px;\n",
              "    }\n",
              "\n",
              "    .colab-df-convert:hover {\n",
              "      background-color: #E2EBFA;\n",
              "      box-shadow: 0px 1px 2px rgba(60, 64, 67, 0.3), 0px 1px 3px 1px rgba(60, 64, 67, 0.15);\n",
              "      fill: #174EA6;\n",
              "    }\n",
              "\n",
              "    .colab-df-buttons div {\n",
              "      margin-bottom: 4px;\n",
              "    }\n",
              "\n",
              "    [theme=dark] .colab-df-convert {\n",
              "      background-color: #3B4455;\n",
              "      fill: #D2E3FC;\n",
              "    }\n",
              "\n",
              "    [theme=dark] .colab-df-convert:hover {\n",
              "      background-color: #434B5C;\n",
              "      box-shadow: 0px 1px 3px 1px rgba(0, 0, 0, 0.15);\n",
              "      filter: drop-shadow(0px 1px 2px rgba(0, 0, 0, 0.3));\n",
              "      fill: #FFFFFF;\n",
              "    }\n",
              "  </style>\n",
              "\n",
              "    <script>\n",
              "      const buttonEl =\n",
              "        document.querySelector('#df-d6c6ffbf-4f1d-411e-aa05-4932aeef0963 button.colab-df-convert');\n",
              "      buttonEl.style.display =\n",
              "        google.colab.kernel.accessAllowed ? 'block' : 'none';\n",
              "\n",
              "      async function convertToInteractive(key) {\n",
              "        const element = document.querySelector('#df-d6c6ffbf-4f1d-411e-aa05-4932aeef0963');\n",
              "        const dataTable =\n",
              "          await google.colab.kernel.invokeFunction('convertToInteractive',\n",
              "                                                    [key], {});\n",
              "        if (!dataTable) return;\n",
              "\n",
              "        const docLinkHtml = 'Like what you see? Visit the ' +\n",
              "          '<a target=\"_blank\" href=https://colab.research.google.com/notebooks/data_table.ipynb>data table notebook</a>'\n",
              "          + ' to learn more about interactive tables.';\n",
              "        element.innerHTML = '';\n",
              "        dataTable['output_type'] = 'display_data';\n",
              "        await google.colab.output.renderOutput(dataTable, element);\n",
              "        const docLink = document.createElement('div');\n",
              "        docLink.innerHTML = docLinkHtml;\n",
              "        element.appendChild(docLink);\n",
              "      }\n",
              "    </script>\n",
              "  </div>\n",
              "\n",
              "\n",
              "<div id=\"df-955e36ae-12bd-4293-a600-f8eab14ac499\">\n",
              "  <button class=\"colab-df-quickchart\" onclick=\"quickchart('df-955e36ae-12bd-4293-a600-f8eab14ac499')\"\n",
              "            title=\"Suggest charts\"\n",
              "            style=\"display:none;\">\n",
              "\n",
              "<svg xmlns=\"http://www.w3.org/2000/svg\" height=\"24px\"viewBox=\"0 0 24 24\"\n",
              "     width=\"24px\">\n",
              "    <g>\n",
              "        <path d=\"M19 3H5c-1.1 0-2 .9-2 2v14c0 1.1.9 2 2 2h14c1.1 0 2-.9 2-2V5c0-1.1-.9-2-2-2zM9 17H7v-7h2v7zm4 0h-2V7h2v10zm4 0h-2v-4h2v4z\"/>\n",
              "    </g>\n",
              "</svg>\n",
              "  </button>\n",
              "\n",
              "<style>\n",
              "  .colab-df-quickchart {\n",
              "      --bg-color: #E8F0FE;\n",
              "      --fill-color: #1967D2;\n",
              "      --hover-bg-color: #E2EBFA;\n",
              "      --hover-fill-color: #174EA6;\n",
              "      --disabled-fill-color: #AAA;\n",
              "      --disabled-bg-color: #DDD;\n",
              "  }\n",
              "\n",
              "  [theme=dark] .colab-df-quickchart {\n",
              "      --bg-color: #3B4455;\n",
              "      --fill-color: #D2E3FC;\n",
              "      --hover-bg-color: #434B5C;\n",
              "      --hover-fill-color: #FFFFFF;\n",
              "      --disabled-bg-color: #3B4455;\n",
              "      --disabled-fill-color: #666;\n",
              "  }\n",
              "\n",
              "  .colab-df-quickchart {\n",
              "    background-color: var(--bg-color);\n",
              "    border: none;\n",
              "    border-radius: 50%;\n",
              "    cursor: pointer;\n",
              "    display: none;\n",
              "    fill: var(--fill-color);\n",
              "    height: 32px;\n",
              "    padding: 0;\n",
              "    width: 32px;\n",
              "  }\n",
              "\n",
              "  .colab-df-quickchart:hover {\n",
              "    background-color: var(--hover-bg-color);\n",
              "    box-shadow: 0 1px 2px rgba(60, 64, 67, 0.3), 0 1px 3px 1px rgba(60, 64, 67, 0.15);\n",
              "    fill: var(--button-hover-fill-color);\n",
              "  }\n",
              "\n",
              "  .colab-df-quickchart-complete:disabled,\n",
              "  .colab-df-quickchart-complete:disabled:hover {\n",
              "    background-color: var(--disabled-bg-color);\n",
              "    fill: var(--disabled-fill-color);\n",
              "    box-shadow: none;\n",
              "  }\n",
              "\n",
              "  .colab-df-spinner {\n",
              "    border: 2px solid var(--fill-color);\n",
              "    border-color: transparent;\n",
              "    border-bottom-color: var(--fill-color);\n",
              "    animation:\n",
              "      spin 1s steps(1) infinite;\n",
              "  }\n",
              "\n",
              "  @keyframes spin {\n",
              "    0% {\n",
              "      border-color: transparent;\n",
              "      border-bottom-color: var(--fill-color);\n",
              "      border-left-color: var(--fill-color);\n",
              "    }\n",
              "    20% {\n",
              "      border-color: transparent;\n",
              "      border-left-color: var(--fill-color);\n",
              "      border-top-color: var(--fill-color);\n",
              "    }\n",
              "    30% {\n",
              "      border-color: transparent;\n",
              "      border-left-color: var(--fill-color);\n",
              "      border-top-color: var(--fill-color);\n",
              "      border-right-color: var(--fill-color);\n",
              "    }\n",
              "    40% {\n",
              "      border-color: transparent;\n",
              "      border-right-color: var(--fill-color);\n",
              "      border-top-color: var(--fill-color);\n",
              "    }\n",
              "    60% {\n",
              "      border-color: transparent;\n",
              "      border-right-color: var(--fill-color);\n",
              "    }\n",
              "    80% {\n",
              "      border-color: transparent;\n",
              "      border-right-color: var(--fill-color);\n",
              "      border-bottom-color: var(--fill-color);\n",
              "    }\n",
              "    90% {\n",
              "      border-color: transparent;\n",
              "      border-bottom-color: var(--fill-color);\n",
              "    }\n",
              "  }\n",
              "</style>\n",
              "\n",
              "  <script>\n",
              "    async function quickchart(key) {\n",
              "      const quickchartButtonEl =\n",
              "        document.querySelector('#' + key + ' button');\n",
              "      quickchartButtonEl.disabled = true;  // To prevent multiple clicks.\n",
              "      quickchartButtonEl.classList.add('colab-df-spinner');\n",
              "      try {\n",
              "        const charts = await google.colab.kernel.invokeFunction(\n",
              "            'suggestCharts', [key], {});\n",
              "      } catch (error) {\n",
              "        console.error('Error during call to suggestCharts:', error);\n",
              "      }\n",
              "      quickchartButtonEl.classList.remove('colab-df-spinner');\n",
              "      quickchartButtonEl.classList.add('colab-df-quickchart-complete');\n",
              "    }\n",
              "    (() => {\n",
              "      let quickchartButtonEl =\n",
              "        document.querySelector('#df-955e36ae-12bd-4293-a600-f8eab14ac499 button');\n",
              "      quickchartButtonEl.style.display =\n",
              "        google.colab.kernel.accessAllowed ? 'block' : 'none';\n",
              "    })();\n",
              "  </script>\n",
              "</div>\n",
              "\n",
              "    </div>\n",
              "  </div>\n"
            ]
          },
          "metadata": {},
          "execution_count": 33
        }
      ]
    },
    {
      "cell_type": "code",
      "source": [
        "train_df,test_df = train_test_split(df1,test_size=0.2,random_state=15)\n",
        "train_df,val_df = train_test_split(train_df,test_size=0.1,random_state=15)"
      ],
      "metadata": {
        "id": "x1CIpmBtsaNP"
      },
      "execution_count": null,
      "outputs": []
    },
    {
      "cell_type": "markdown",
      "source": [
        "Preparing the data"
      ],
      "metadata": {
        "id": "Q4ZiyRpoLJk5"
      }
    },
    {
      "cell_type": "code",
      "source": [
        "train_audio_dataset = datasets.Dataset.from_dict({\"audio\": train_df['path'].tolist(),\"labels\": train_df[\"classID\"].tolist()}).cast_column(\"audio\", Audio(sampling_rate=16_000))"
      ],
      "metadata": {
        "id": "eVwg8I_rsrP5"
      },
      "execution_count": null,
      "outputs": []
    },
    {
      "cell_type": "code",
      "source": [
        "test_audio_dataset = datasets.Dataset.from_dict({\"audio\": test_df['path'].tolist(),\"labels\": test_df[\"classID\"].tolist()}).cast_column(\"audio\", Audio(sampling_rate=16_000))\n",
        "\n",
        "val_audio_dataset = datasets.Dataset.from_dict({\"audio\": val_df['path'].tolist(),\"labels\": val_df[\"classID\"].tolist()}).cast_column(\"audio\", Audio(sampling_rate=16_000))"
      ],
      "metadata": {
        "id": "eOjamxBctcct"
      },
      "execution_count": null,
      "outputs": []
    },
    {
      "cell_type": "code",
      "source": [
        "feature_extractor = WhisperFeatureExtractor.from_pretrained(\"openai/whisper-base\")\n",
        "model = WhisperModel.from_pretrained(\"openai/whisper-base\")"
      ],
      "metadata": {
        "id": "DDCnGkNPtcSU"
      },
      "execution_count": null,
      "outputs": []
    },
    {
      "cell_type": "code",
      "source": [
        "class Sound_ds1(Dataset):\n",
        "  def __init__(self,data):\n",
        "    self.data = data\n",
        "\n",
        "  def __len__(self):\n",
        "    return len(self.data)\n",
        "\n",
        "  def __getitem__(self, inx):\n",
        "    signal = feature_extractor(self.data[inx]['audio']['array'],return_tensors=\"pt\",sampling_rate=self.data[inx]['audio']['sampling_rate']).input_features\n",
        "    signal_ids = torch.tensor([[1,1]])*model.config.decoder_start_token_id\n",
        "    labels = np.array(self.data[inx]['labels'])\n",
        "\n",
        "    return signal,signal_ids,torch.tensor(labels)\n"
      ],
      "metadata": {
        "id": "2t5W6ceButKb"
      },
      "execution_count": null,
      "outputs": []
    },
    {
      "cell_type": "code",
      "source": [
        "train_dataset1 = Sound_ds1(train_audio_dataset)\n",
        "val_dataset1 = Sound_ds1(val_audio_dataset)\n",
        "test_dataset1 = Sound_ds1(test_audio_dataset)"
      ],
      "metadata": {
        "id": "Bdskpd3swjQt"
      },
      "execution_count": null,
      "outputs": []
    },
    {
      "cell_type": "code",
      "source": [
        "batch_size = 8\n",
        "train_loader1 = DataLoader(train_dataset1,batch_size=batch_size,shuffle=True)\n",
        "val_loader1 = DataLoader(val_dataset1,batch_size=batch_size,shuffle=False)\n",
        "test_loader1 = DataLoader(test_dataset1,batch_size=batch_size,shuffle=False)"
      ],
      "metadata": {
        "id": "vvd9alXQwpnr"
      },
      "execution_count": null,
      "outputs": []
    },
    {
      "cell_type": "markdown",
      "source": [
        "Creating the classifer on top of Whisper model"
      ],
      "metadata": {
        "id": "2CXQXoTYLMcI"
      }
    },
    {
      "cell_type": "code",
      "source": [
        "class extend_model(nn.Module):\n",
        "  def __init__(self,model):\n",
        "    super(extend_model,self).__init__()\n",
        "    self.model = model\n",
        "    self.classifier = nn.Sequential(\n",
        "        nn.Linear(self.model.config.hidden_size,2048),\n",
        "        nn.ReLU(),\n",
        "        nn.Linear(2048,1024),\n",
        "        nn.ReLU(),\n",
        "        nn.Linear(1024,512),\n",
        "        nn.ReLU(),\n",
        "        nn.Linear(512,10)\n",
        "    )\n",
        "\n",
        "  def forward(self,x,x_ids):\n",
        "    outputs = self.model(x,decoder_input_ids=x_ids)\n",
        "    pool_out = outputs['last_hidden_state'][:,0,:]\n",
        "    out = self.classifier(pool_out)\n",
        "\n",
        "    return out\n"
      ],
      "metadata": {
        "id": "KbV_4ElgyVxD"
      },
      "execution_count": null,
      "outputs": []
    },
    {
      "cell_type": "code",
      "source": [
        "model1 = extend_model(model)\n",
        "model1.to(device)"
      ],
      "metadata": {
        "colab": {
          "base_uri": "https://localhost:8080/"
        },
        "id": "CuSHQBex0rIW",
        "outputId": "50b6d6a6-87d7-4f11-dc34-65a0437a8623"
      },
      "execution_count": null,
      "outputs": [
        {
          "output_type": "execute_result",
          "data": {
            "text/plain": [
              "extend_model(\n",
              "  (model): WhisperModel(\n",
              "    (encoder): WhisperEncoder(\n",
              "      (conv1): Conv1d(80, 512, kernel_size=(3,), stride=(1,), padding=(1,))\n",
              "      (conv2): Conv1d(512, 512, kernel_size=(3,), stride=(2,), padding=(1,))\n",
              "      (embed_positions): Embedding(1500, 512)\n",
              "      (layers): ModuleList(\n",
              "        (0-5): 6 x WhisperEncoderLayer(\n",
              "          (self_attn): WhisperAttention(\n",
              "            (k_proj): Linear(in_features=512, out_features=512, bias=False)\n",
              "            (v_proj): Linear(in_features=512, out_features=512, bias=True)\n",
              "            (q_proj): Linear(in_features=512, out_features=512, bias=True)\n",
              "            (out_proj): Linear(in_features=512, out_features=512, bias=True)\n",
              "          )\n",
              "          (self_attn_layer_norm): LayerNorm((512,), eps=1e-05, elementwise_affine=True)\n",
              "          (activation_fn): GELUActivation()\n",
              "          (fc1): Linear(in_features=512, out_features=2048, bias=True)\n",
              "          (fc2): Linear(in_features=2048, out_features=512, bias=True)\n",
              "          (final_layer_norm): LayerNorm((512,), eps=1e-05, elementwise_affine=True)\n",
              "        )\n",
              "      )\n",
              "      (layer_norm): LayerNorm((512,), eps=1e-05, elementwise_affine=True)\n",
              "    )\n",
              "    (decoder): WhisperDecoder(\n",
              "      (embed_tokens): Embedding(51865, 512, padding_idx=50257)\n",
              "      (embed_positions): WhisperPositionalEmbedding(448, 512)\n",
              "      (layers): ModuleList(\n",
              "        (0-5): 6 x WhisperDecoderLayer(\n",
              "          (self_attn): WhisperAttention(\n",
              "            (k_proj): Linear(in_features=512, out_features=512, bias=False)\n",
              "            (v_proj): Linear(in_features=512, out_features=512, bias=True)\n",
              "            (q_proj): Linear(in_features=512, out_features=512, bias=True)\n",
              "            (out_proj): Linear(in_features=512, out_features=512, bias=True)\n",
              "          )\n",
              "          (activation_fn): GELUActivation()\n",
              "          (self_attn_layer_norm): LayerNorm((512,), eps=1e-05, elementwise_affine=True)\n",
              "          (encoder_attn): WhisperAttention(\n",
              "            (k_proj): Linear(in_features=512, out_features=512, bias=False)\n",
              "            (v_proj): Linear(in_features=512, out_features=512, bias=True)\n",
              "            (q_proj): Linear(in_features=512, out_features=512, bias=True)\n",
              "            (out_proj): Linear(in_features=512, out_features=512, bias=True)\n",
              "          )\n",
              "          (encoder_attn_layer_norm): LayerNorm((512,), eps=1e-05, elementwise_affine=True)\n",
              "          (fc1): Linear(in_features=512, out_features=2048, bias=True)\n",
              "          (fc2): Linear(in_features=2048, out_features=512, bias=True)\n",
              "          (final_layer_norm): LayerNorm((512,), eps=1e-05, elementwise_affine=True)\n",
              "        )\n",
              "      )\n",
              "      (layer_norm): LayerNorm((512,), eps=1e-05, elementwise_affine=True)\n",
              "    )\n",
              "  )\n",
              "  (classifier): Sequential(\n",
              "    (0): Linear(in_features=512, out_features=2048, bias=True)\n",
              "    (1): ReLU()\n",
              "    (2): Linear(in_features=2048, out_features=1024, bias=True)\n",
              "    (3): ReLU()\n",
              "    (4): Linear(in_features=1024, out_features=512, bias=True)\n",
              "    (5): ReLU()\n",
              "    (6): Linear(in_features=512, out_features=10, bias=True)\n",
              "  )\n",
              ")"
            ]
          },
          "metadata": {},
          "execution_count": 42
        }
      ]
    },
    {
      "cell_type": "code",
      "source": [
        "lr = 2e-5\n",
        "optimizer1 = optim.AdamW(model1.parameters(),lr=lr)\n",
        "epochs = 10\n",
        "loss_f = nn.CrossEntropyLoss()"
      ],
      "metadata": {
        "id": "-49SnsoD0cAg"
      },
      "execution_count": null,
      "outputs": []
    },
    {
      "cell_type": "markdown",
      "source": [
        "Training"
      ],
      "metadata": {
        "id": "Ls8kkPCXLR9Q"
      }
    },
    {
      "cell_type": "code",
      "source": [
        "train_loss1 = []\n",
        "vali_loss1 = []\n",
        "\n",
        "def train(model,loss_f,train_loader,val_loader,optimizer,train_loss,val_loss):\n",
        "  for epoch in range(10):\n",
        "    model.train()\n",
        "    batch_losses = []\n",
        "    for i,data in enumerate(train_loader):\n",
        "      optimizer.zero_grad()\n",
        "      x = data[0].squeeze().to(device)\n",
        "      x_ids = data[1].squeeze().to(device)\n",
        "      y = data[2].view(-1).to(device)\n",
        "\n",
        "      y_pred = model(x,x_ids)\n",
        "      loss = loss_f(y_pred,y)\n",
        "      loss.backward()\n",
        "      batch_losses.append(loss.item())\n",
        "      optimizer.step()\n",
        "\n",
        "    train_loss.append(batch_losses)\n",
        "    print(f'Epoch - {epoch} Train-Loss : {np.mean(train_loss[-1])}')\n",
        "\n",
        "    model.eval()\n",
        "\n",
        "    val_batch_losses = []\n",
        "\n",
        "    with torch.no_grad():\n",
        "      for i,data in enumerate(val_loader):\n",
        "        x = data[0].squeeze().to(device)\n",
        "        x_ids = data[1].squeeze().to(device)\n",
        "        y = data[2].view(-1).to(device)\n",
        "\n",
        "        y_pred = model(x,x_ids)\n",
        "        val_loss1 = loss_f(y_pred,y)\n",
        "        val_batch_losses.append(val_loss1.item())\n",
        "\n",
        "    val_loss.append(val_batch_losses)\n",
        "    print(f'Epoch - {epoch} Validation-Loss : {np.mean(val_loss[-1])}')\n"
      ],
      "metadata": {
        "id": "2lPItc4SuCoN"
      },
      "execution_count": null,
      "outputs": []
    },
    {
      "cell_type": "code",
      "source": [
        "train(model1,loss_f,train_loader1,val_loader1,optimizer1,train_loss1,vali_loss1)"
      ],
      "metadata": {
        "id": "PNcNXkgt2fQU",
        "colab": {
          "base_uri": "https://localhost:8080/"
        },
        "outputId": "993dcd49-9b1e-4b11-ce70-fbcef6313294"
      },
      "execution_count": null,
      "outputs": [
        {
          "output_type": "stream",
          "name": "stdout",
          "text": [
            "Epoch - 0 Train-Loss : 1.4368999816753245\n",
            "Epoch - 0 Validation-Loss : 0.9717940807342529\n",
            "Epoch - 1 Train-Loss : 0.7824049732751317\n",
            "Epoch - 1 Validation-Loss : 1.2307195127010346\n",
            "Epoch - 2 Train-Loss : 0.5078715595796153\n",
            "Epoch - 2 Validation-Loss : 0.6457733601331711\n",
            "Epoch - 3 Train-Loss : 0.4056312574142659\n",
            "Epoch - 3 Validation-Loss : 0.7256020794312159\n",
            "Epoch - 4 Train-Loss : 0.33153637462054136\n",
            "Epoch - 4 Validation-Loss : 0.562277719626824\n",
            "Epoch - 5 Train-Loss : 0.24863948922052428\n",
            "Epoch - 5 Validation-Loss : 1.1424733142058054\n",
            "Epoch - 6 Train-Loss : 0.21445703542342892\n",
            "Epoch - 6 Validation-Loss : 0.7570129096508026\n",
            "Epoch - 7 Train-Loss : 0.19540631783160348\n",
            "Epoch - 7 Validation-Loss : 0.632824195548892\n",
            "Epoch - 8 Train-Loss : 0.1757864401830981\n",
            "Epoch - 8 Validation-Loss : 0.7117993885030349\n",
            "Epoch - 9 Train-Loss : 0.13935226732864975\n",
            "Epoch - 9 Validation-Loss : 0.5672649512688319\n"
          ]
        }
      ]
    },
    {
      "cell_type": "markdown",
      "source": [
        "Evaluating"
      ],
      "metadata": {
        "id": "wsepf6tBLWK3"
      }
    },
    {
      "cell_type": "code",
      "source": [
        "model1.eval()\n",
        "\n",
        "predictions = []\n",
        "true_labels = []\n",
        "correct_pred = 0\n",
        "total_pred = 0\n",
        "with torch.no_grad():\n",
        "  for i,data in enumerate(test_loader1):\n",
        "    if(i%100==0):\n",
        "      print(i)\n",
        "    x = data[0].squeeze().to(device)\n",
        "    x_ids = data[1].squeeze().to(device)\n",
        "    y = data[2].view(-1).to(device)\n",
        "\n",
        "    # print(x.shape)\n",
        "    # print(y.shape)\n",
        "\n",
        "\n",
        "    outputs = model1(x,x_ids)\n",
        "    _,y_pred = torch.max(outputs,1)\n",
        "    # print(y_pred,y)\n",
        "    predictions.extend(y_pred.cpu().numpy())\n",
        "    true_labels.extend(y.cpu().numpy())\n",
        "    # correct_pred +=(y_pred==y).sum().item()\n",
        "    # total_pred += y_pred.shape[0]\n",
        "\n"
      ],
      "metadata": {
        "colab": {
          "base_uri": "https://localhost:8080/"
        },
        "id": "X4t0Qtvc296d",
        "outputId": "cf92db18-5366-4624-d09c-4fb4af1eee99"
      },
      "execution_count": null,
      "outputs": [
        {
          "output_type": "stream",
          "name": "stdout",
          "text": [
            "0\n"
          ]
        }
      ]
    },
    {
      "cell_type": "code",
      "source": [
        "accuracy = accuracy_score(predictions,true_labels)\n",
        "print(f\"Accuracy: {accuracy*100:.2f}%\")"
      ],
      "metadata": {
        "colab": {
          "base_uri": "https://localhost:8080/"
        },
        "id": "y68QpgeQACoR",
        "outputId": "20611960-632d-461b-f2c2-0b47fa0cef34"
      },
      "execution_count": null,
      "outputs": [
        {
          "output_type": "stream",
          "name": "stdout",
          "text": [
            "Accuracy: 84.33%\n"
          ]
        }
      ]
    },
    {
      "cell_type": "code",
      "source": [
        "precision = precision_score(predictions,true_labels,average = \"weighted\")\n",
        "print(f\"Precision: {precision:.2f}\")"
      ],
      "metadata": {
        "colab": {
          "base_uri": "https://localhost:8080/"
        },
        "id": "X0yADcXGS-Ci",
        "outputId": "08f7047b-6b44-4147-cc5d-187147c54746"
      },
      "execution_count": null,
      "outputs": [
        {
          "output_type": "stream",
          "name": "stdout",
          "text": [
            "Precision: 0.86\n"
          ]
        }
      ]
    },
    {
      "cell_type": "code",
      "source": [
        "recall = recall_score(predictions,true_labels,average = \"weighted\")\n",
        "print(f\"Recall: {recall:.2f}\")"
      ],
      "metadata": {
        "colab": {
          "base_uri": "https://localhost:8080/"
        },
        "id": "nN6eBJLqS-gD",
        "outputId": "5084202e-a046-4dfa-847c-183ea5ce5153"
      },
      "execution_count": null,
      "outputs": [
        {
          "output_type": "stream",
          "name": "stdout",
          "text": [
            "Recall: 0.84\n"
          ]
        }
      ]
    },
    {
      "cell_type": "code",
      "source": [
        "f1score = f1_score(predictions,true_labels,average = \"weighted\")\n",
        "print(f\"F1_score: {f1score:.2f}\")"
      ],
      "metadata": {
        "colab": {
          "base_uri": "https://localhost:8080/"
        },
        "id": "Ruw-twFpTEfC",
        "outputId": "ec5091b9-bdbd-4000-f8c4-832149ef79cb"
      },
      "execution_count": null,
      "outputs": [
        {
          "output_type": "stream",
          "name": "stdout",
          "text": [
            "F1_score: 0.85\n"
          ]
        }
      ]
    },
    {
      "cell_type": "code",
      "source": [
        "print(classification_report(predictions,true_labels,target_names=sorted(classes)))"
      ],
      "metadata": {
        "colab": {
          "base_uri": "https://localhost:8080/"
        },
        "id": "MUI24xPLTKrx",
        "outputId": "18fbbc8d-7c79-4acb-bba0-b2273d06c7df"
      },
      "execution_count": null,
      "outputs": [
        {
          "output_type": "stream",
          "name": "stdout",
          "text": [
            "                  precision    recall  f1-score   support\n",
            "\n",
            " air_conditioner       0.70      0.78      0.74        27\n",
            "        car_horn       0.80      0.80      0.80        20\n",
            "children_playing       0.94      0.78      0.85        40\n",
            "        dog_bark       0.89      0.96      0.93        26\n",
            "        drilling       0.85      0.93      0.89        30\n",
            "   engine_idling       0.81      0.83      0.82        36\n",
            "        gun_shot       1.00      1.00      1.00         7\n",
            "      jackhammer       0.97      0.77      0.86        47\n",
            "           siren       0.94      0.86      0.90        37\n",
            "    street_music       0.66      0.90      0.76        30\n",
            "\n",
            "        accuracy                           0.84       300\n",
            "       macro avg       0.86      0.86      0.85       300\n",
            "    weighted avg       0.86      0.84      0.85       300\n",
            "\n"
          ]
        }
      ]
    },
    {
      "cell_type": "code",
      "source": [],
      "metadata": {
        "id": "JtZBFi_pTQ2O"
      },
      "execution_count": null,
      "outputs": []
    }
  ],
  "metadata": {
    "colab": {
      "provenance": [],
      "gpuType": "T4"
    },
    "kernelspec": {
      "display_name": "Python 3",
      "name": "python3"
    },
    "language_info": {
      "name": "python"
    },
    "accelerator": "GPU"
  },
  "nbformat": 4,
  "nbformat_minor": 0
}